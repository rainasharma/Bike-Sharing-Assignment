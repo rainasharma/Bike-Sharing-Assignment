{
 "cells": [
  {
   "cell_type": "markdown",
   "id": "d5b6f438",
   "metadata": {},
   "source": [
    "## Bike Sharing Assignment <br>\n",
    "\n",
    "### Problem Statement:<br>\n",
    "A US bike-sharing provider BoomBikes has recently suffered considerable dips in their revenues due to the ongoing Corona pandemic. The company is finding it very difficult to sustain in the current market scenario. So, it has decided to come up with a mindful business plan to be able to accelerate its revenue as soon as the ongoing lockdown comes to an end, and the economy restores to a healthy state.\n",
    "\n",
    "In such an attempt, BoomBikes aspires to understand the demand for shared bikes among the people after this ongoing quarantine situation ends across the nation due to Covid-19. They have planned this to prepare themselves to cater to the people's needs once the situation gets better all around and stand out from other service providers and make huge profits.\n",
    "\n",
    "They have contracted a consulting company to understand the factors on which the demand for these shared bikes depends. Specifically, they want to understand the factors affecting the demand for these shared bikes in the American market. The company wants to know:\n",
    "\n",
    "Which variables are significant in predicting the demand for shared bikes.\n",
    "How well those variables describe the bike demand\n",
    "Based on various meteorological surveys and people's styles, the service provider firm has gathered a large dataset on daily bike demands across the American market based on some factors.<br>\n",
    "### Business Goal:<br>\n",
    "Build a model which identifies variables significant in predicting the demand for shared bikes.This will be used by the management to understand and manipulate the business strategy to meet the demand levels and meet the customer's expectations. "
   ]
  },
  {
   "cell_type": "code",
   "execution_count": 348,
   "id": "d1e4d161",
   "metadata": {},
   "outputs": [],
   "source": [
    "# Importing all required packages\n",
    "\n",
    "import numpy as np\n",
    "import pandas as pd\n",
    "import matplotlib.pyplot as plt\n",
    "import seaborn as sns\n",
    "%matplotlib inline\n",
    "\n",
    "from math import sqrt\n",
    "\n",
    "#Machine learning Libraries\n",
    "import statsmodels.api as sm\n",
    "from statsmodels.stats.outliers_influence import variance_inflation_factor\n",
    "\n",
    "from sklearn.linear_model import LinearRegression\n",
    "from sklearn.model_selection import train_test_split\n",
    "from sklearn.feature_selection import RFE\n",
    "from sklearn import preprocessing\n",
    "from sklearn.preprocessing import LabelEncoder\n",
    "from sklearn.preprocessing import MinMaxScaler\n",
    "from sklearn.metrics import r2_score\n",
    "from sklearn.metrics import mean_squared_error\n",
    "from sklearn.metrics import mean_absolute_error\n",
    "\n",
    "# Supress Warnings\n",
    "\n",
    "import warnings\n",
    "warnings.filterwarnings('ignore')"
   ]
  },
  {
   "cell_type": "markdown",
   "id": "923f3825",
   "metadata": {},
   "source": [
    "## Step 1. Data reading and understanding"
   ]
  },
  {
   "cell_type": "code",
   "execution_count": 349,
   "id": "d1f0939d",
   "metadata": {},
   "outputs": [],
   "source": [
    "#Importing dataset\n",
    "bike_df=pd.read_csv(\"day.csv\")"
   ]
  },
  {
   "cell_type": "code",
   "execution_count": 350,
   "id": "c135d7b2",
   "metadata": {},
   "outputs": [
    {
     "data": {
      "text/html": [
       "<div>\n",
       "<style scoped>\n",
       "    .dataframe tbody tr th:only-of-type {\n",
       "        vertical-align: middle;\n",
       "    }\n",
       "\n",
       "    .dataframe tbody tr th {\n",
       "        vertical-align: top;\n",
       "    }\n",
       "\n",
       "    .dataframe thead th {\n",
       "        text-align: right;\n",
       "    }\n",
       "</style>\n",
       "<table border=\"1\" class=\"dataframe\">\n",
       "  <thead>\n",
       "    <tr style=\"text-align: right;\">\n",
       "      <th></th>\n",
       "      <th>instant</th>\n",
       "      <th>dteday</th>\n",
       "      <th>season</th>\n",
       "      <th>yr</th>\n",
       "      <th>mnth</th>\n",
       "      <th>holiday</th>\n",
       "      <th>weekday</th>\n",
       "      <th>workingday</th>\n",
       "      <th>weathersit</th>\n",
       "      <th>temp</th>\n",
       "      <th>atemp</th>\n",
       "      <th>hum</th>\n",
       "      <th>windspeed</th>\n",
       "      <th>casual</th>\n",
       "      <th>registered</th>\n",
       "      <th>cnt</th>\n",
       "    </tr>\n",
       "  </thead>\n",
       "  <tbody>\n",
       "    <tr>\n",
       "      <th>0</th>\n",
       "      <td>1</td>\n",
       "      <td>01-01-2018</td>\n",
       "      <td>1</td>\n",
       "      <td>0</td>\n",
       "      <td>1</td>\n",
       "      <td>0</td>\n",
       "      <td>6</td>\n",
       "      <td>0</td>\n",
       "      <td>2</td>\n",
       "      <td>14.110847</td>\n",
       "      <td>18.18125</td>\n",
       "      <td>80.5833</td>\n",
       "      <td>10.749882</td>\n",
       "      <td>331</td>\n",
       "      <td>654</td>\n",
       "      <td>985</td>\n",
       "    </tr>\n",
       "    <tr>\n",
       "      <th>1</th>\n",
       "      <td>2</td>\n",
       "      <td>02-01-2018</td>\n",
       "      <td>1</td>\n",
       "      <td>0</td>\n",
       "      <td>1</td>\n",
       "      <td>0</td>\n",
       "      <td>0</td>\n",
       "      <td>0</td>\n",
       "      <td>2</td>\n",
       "      <td>14.902598</td>\n",
       "      <td>17.68695</td>\n",
       "      <td>69.6087</td>\n",
       "      <td>16.652113</td>\n",
       "      <td>131</td>\n",
       "      <td>670</td>\n",
       "      <td>801</td>\n",
       "    </tr>\n",
       "    <tr>\n",
       "      <th>2</th>\n",
       "      <td>3</td>\n",
       "      <td>03-01-2018</td>\n",
       "      <td>1</td>\n",
       "      <td>0</td>\n",
       "      <td>1</td>\n",
       "      <td>0</td>\n",
       "      <td>1</td>\n",
       "      <td>1</td>\n",
       "      <td>1</td>\n",
       "      <td>8.050924</td>\n",
       "      <td>9.47025</td>\n",
       "      <td>43.7273</td>\n",
       "      <td>16.636703</td>\n",
       "      <td>120</td>\n",
       "      <td>1229</td>\n",
       "      <td>1349</td>\n",
       "    </tr>\n",
       "    <tr>\n",
       "      <th>3</th>\n",
       "      <td>4</td>\n",
       "      <td>04-01-2018</td>\n",
       "      <td>1</td>\n",
       "      <td>0</td>\n",
       "      <td>1</td>\n",
       "      <td>0</td>\n",
       "      <td>2</td>\n",
       "      <td>1</td>\n",
       "      <td>1</td>\n",
       "      <td>8.200000</td>\n",
       "      <td>10.60610</td>\n",
       "      <td>59.0435</td>\n",
       "      <td>10.739832</td>\n",
       "      <td>108</td>\n",
       "      <td>1454</td>\n",
       "      <td>1562</td>\n",
       "    </tr>\n",
       "    <tr>\n",
       "      <th>4</th>\n",
       "      <td>5</td>\n",
       "      <td>05-01-2018</td>\n",
       "      <td>1</td>\n",
       "      <td>0</td>\n",
       "      <td>1</td>\n",
       "      <td>0</td>\n",
       "      <td>3</td>\n",
       "      <td>1</td>\n",
       "      <td>1</td>\n",
       "      <td>9.305237</td>\n",
       "      <td>11.46350</td>\n",
       "      <td>43.6957</td>\n",
       "      <td>12.522300</td>\n",
       "      <td>82</td>\n",
       "      <td>1518</td>\n",
       "      <td>1600</td>\n",
       "    </tr>\n",
       "  </tbody>\n",
       "</table>\n",
       "</div>"
      ],
      "text/plain": [
       "   instant      dteday  season  yr  mnth  holiday  weekday  workingday  \\\n",
       "0        1  01-01-2018       1   0     1        0        6           0   \n",
       "1        2  02-01-2018       1   0     1        0        0           0   \n",
       "2        3  03-01-2018       1   0     1        0        1           1   \n",
       "3        4  04-01-2018       1   0     1        0        2           1   \n",
       "4        5  05-01-2018       1   0     1        0        3           1   \n",
       "\n",
       "   weathersit       temp     atemp      hum  windspeed  casual  registered  \\\n",
       "0           2  14.110847  18.18125  80.5833  10.749882     331         654   \n",
       "1           2  14.902598  17.68695  69.6087  16.652113     131         670   \n",
       "2           1   8.050924   9.47025  43.7273  16.636703     120        1229   \n",
       "3           1   8.200000  10.60610  59.0435  10.739832     108        1454   \n",
       "4           1   9.305237  11.46350  43.6957  12.522300      82        1518   \n",
       "\n",
       "    cnt  \n",
       "0   985  \n",
       "1   801  \n",
       "2  1349  \n",
       "3  1562  \n",
       "4  1600  "
      ]
     },
     "execution_count": 350,
     "metadata": {},
     "output_type": "execute_result"
    }
   ],
   "source": [
    "#Let's explore the top 5 rows\n",
    "bike_df.head()"
   ]
  },
  {
   "cell_type": "code",
   "execution_count": 351,
   "id": "4812b23b",
   "metadata": {},
   "outputs": [
    {
     "data": {
      "text/plain": [
       "Index(['instant', 'dteday', 'season', 'yr', 'mnth', 'holiday', 'weekday',\n",
       "       'workingday', 'weathersit', 'temp', 'atemp', 'hum', 'windspeed',\n",
       "       'casual', 'registered', 'cnt'],\n",
       "      dtype='object')"
      ]
     },
     "execution_count": 351,
     "metadata": {},
     "output_type": "execute_result"
    }
   ],
   "source": [
    "bike_df.columns"
   ]
  },
  {
   "cell_type": "code",
   "execution_count": 352,
   "id": "d8904170",
   "metadata": {},
   "outputs": [
    {
     "data": {
      "text/plain": [
       "(730, 16)"
      ]
     },
     "execution_count": 352,
     "metadata": {},
     "output_type": "execute_result"
    }
   ],
   "source": [
    "bike_df.shape"
   ]
  },
  {
   "cell_type": "code",
   "execution_count": 353,
   "id": "c259d602",
   "metadata": {},
   "outputs": [
    {
     "name": "stdout",
     "output_type": "stream",
     "text": [
      "<class 'pandas.core.frame.DataFrame'>\n",
      "RangeIndex: 730 entries, 0 to 729\n",
      "Data columns (total 16 columns):\n",
      " #   Column      Non-Null Count  Dtype  \n",
      "---  ------      --------------  -----  \n",
      " 0   instant     730 non-null    int64  \n",
      " 1   dteday      730 non-null    object \n",
      " 2   season      730 non-null    int64  \n",
      " 3   yr          730 non-null    int64  \n",
      " 4   mnth        730 non-null    int64  \n",
      " 5   holiday     730 non-null    int64  \n",
      " 6   weekday     730 non-null    int64  \n",
      " 7   workingday  730 non-null    int64  \n",
      " 8   weathersit  730 non-null    int64  \n",
      " 9   temp        730 non-null    float64\n",
      " 10  atemp       730 non-null    float64\n",
      " 11  hum         730 non-null    float64\n",
      " 12  windspeed   730 non-null    float64\n",
      " 13  casual      730 non-null    int64  \n",
      " 14  registered  730 non-null    int64  \n",
      " 15  cnt         730 non-null    int64  \n",
      "dtypes: float64(4), int64(11), object(1)\n",
      "memory usage: 91.4+ KB\n"
     ]
    }
   ],
   "source": [
    "bike_df.info()"
   ]
  },
  {
   "cell_type": "code",
   "execution_count": 354,
   "id": "9f9c6fc6",
   "metadata": {},
   "outputs": [
    {
     "data": {
      "text/html": [
       "<div>\n",
       "<style scoped>\n",
       "    .dataframe tbody tr th:only-of-type {\n",
       "        vertical-align: middle;\n",
       "    }\n",
       "\n",
       "    .dataframe tbody tr th {\n",
       "        vertical-align: top;\n",
       "    }\n",
       "\n",
       "    .dataframe thead th {\n",
       "        text-align: right;\n",
       "    }\n",
       "</style>\n",
       "<table border=\"1\" class=\"dataframe\">\n",
       "  <thead>\n",
       "    <tr style=\"text-align: right;\">\n",
       "      <th></th>\n",
       "      <th>instant</th>\n",
       "      <th>season</th>\n",
       "      <th>yr</th>\n",
       "      <th>mnth</th>\n",
       "      <th>holiday</th>\n",
       "      <th>weekday</th>\n",
       "      <th>workingday</th>\n",
       "      <th>weathersit</th>\n",
       "      <th>temp</th>\n",
       "      <th>atemp</th>\n",
       "      <th>hum</th>\n",
       "      <th>windspeed</th>\n",
       "      <th>casual</th>\n",
       "      <th>registered</th>\n",
       "      <th>cnt</th>\n",
       "    </tr>\n",
       "  </thead>\n",
       "  <tbody>\n",
       "    <tr>\n",
       "      <th>count</th>\n",
       "      <td>730.000000</td>\n",
       "      <td>730.000000</td>\n",
       "      <td>730.000000</td>\n",
       "      <td>730.000000</td>\n",
       "      <td>730.000000</td>\n",
       "      <td>730.000000</td>\n",
       "      <td>730.000000</td>\n",
       "      <td>730.000000</td>\n",
       "      <td>730.000000</td>\n",
       "      <td>730.000000</td>\n",
       "      <td>730.000000</td>\n",
       "      <td>730.000000</td>\n",
       "      <td>730.000000</td>\n",
       "      <td>730.000000</td>\n",
       "      <td>730.000000</td>\n",
       "    </tr>\n",
       "    <tr>\n",
       "      <th>mean</th>\n",
       "      <td>365.500000</td>\n",
       "      <td>2.498630</td>\n",
       "      <td>0.500000</td>\n",
       "      <td>6.526027</td>\n",
       "      <td>0.028767</td>\n",
       "      <td>2.997260</td>\n",
       "      <td>0.683562</td>\n",
       "      <td>1.394521</td>\n",
       "      <td>20.319259</td>\n",
       "      <td>23.726322</td>\n",
       "      <td>62.765175</td>\n",
       "      <td>12.763620</td>\n",
       "      <td>849.249315</td>\n",
       "      <td>3658.757534</td>\n",
       "      <td>4508.006849</td>\n",
       "    </tr>\n",
       "    <tr>\n",
       "      <th>std</th>\n",
       "      <td>210.877136</td>\n",
       "      <td>1.110184</td>\n",
       "      <td>0.500343</td>\n",
       "      <td>3.450215</td>\n",
       "      <td>0.167266</td>\n",
       "      <td>2.006161</td>\n",
       "      <td>0.465405</td>\n",
       "      <td>0.544807</td>\n",
       "      <td>7.506729</td>\n",
       "      <td>8.150308</td>\n",
       "      <td>14.237589</td>\n",
       "      <td>5.195841</td>\n",
       "      <td>686.479875</td>\n",
       "      <td>1559.758728</td>\n",
       "      <td>1936.011647</td>\n",
       "    </tr>\n",
       "    <tr>\n",
       "      <th>min</th>\n",
       "      <td>1.000000</td>\n",
       "      <td>1.000000</td>\n",
       "      <td>0.000000</td>\n",
       "      <td>1.000000</td>\n",
       "      <td>0.000000</td>\n",
       "      <td>0.000000</td>\n",
       "      <td>0.000000</td>\n",
       "      <td>1.000000</td>\n",
       "      <td>2.424346</td>\n",
       "      <td>3.953480</td>\n",
       "      <td>0.000000</td>\n",
       "      <td>1.500244</td>\n",
       "      <td>2.000000</td>\n",
       "      <td>20.000000</td>\n",
       "      <td>22.000000</td>\n",
       "    </tr>\n",
       "    <tr>\n",
       "      <th>25%</th>\n",
       "      <td>183.250000</td>\n",
       "      <td>2.000000</td>\n",
       "      <td>0.000000</td>\n",
       "      <td>4.000000</td>\n",
       "      <td>0.000000</td>\n",
       "      <td>1.000000</td>\n",
       "      <td>0.000000</td>\n",
       "      <td>1.000000</td>\n",
       "      <td>13.811885</td>\n",
       "      <td>16.889713</td>\n",
       "      <td>52.000000</td>\n",
       "      <td>9.041650</td>\n",
       "      <td>316.250000</td>\n",
       "      <td>2502.250000</td>\n",
       "      <td>3169.750000</td>\n",
       "    </tr>\n",
       "    <tr>\n",
       "      <th>50%</th>\n",
       "      <td>365.500000</td>\n",
       "      <td>3.000000</td>\n",
       "      <td>0.500000</td>\n",
       "      <td>7.000000</td>\n",
       "      <td>0.000000</td>\n",
       "      <td>3.000000</td>\n",
       "      <td>1.000000</td>\n",
       "      <td>1.000000</td>\n",
       "      <td>20.465826</td>\n",
       "      <td>24.368225</td>\n",
       "      <td>62.625000</td>\n",
       "      <td>12.125325</td>\n",
       "      <td>717.000000</td>\n",
       "      <td>3664.500000</td>\n",
       "      <td>4548.500000</td>\n",
       "    </tr>\n",
       "    <tr>\n",
       "      <th>75%</th>\n",
       "      <td>547.750000</td>\n",
       "      <td>3.000000</td>\n",
       "      <td>1.000000</td>\n",
       "      <td>10.000000</td>\n",
       "      <td>0.000000</td>\n",
       "      <td>5.000000</td>\n",
       "      <td>1.000000</td>\n",
       "      <td>2.000000</td>\n",
       "      <td>26.880615</td>\n",
       "      <td>30.445775</td>\n",
       "      <td>72.989575</td>\n",
       "      <td>15.625589</td>\n",
       "      <td>1096.500000</td>\n",
       "      <td>4783.250000</td>\n",
       "      <td>5966.000000</td>\n",
       "    </tr>\n",
       "    <tr>\n",
       "      <th>max</th>\n",
       "      <td>730.000000</td>\n",
       "      <td>4.000000</td>\n",
       "      <td>1.000000</td>\n",
       "      <td>12.000000</td>\n",
       "      <td>1.000000</td>\n",
       "      <td>6.000000</td>\n",
       "      <td>1.000000</td>\n",
       "      <td>3.000000</td>\n",
       "      <td>35.328347</td>\n",
       "      <td>42.044800</td>\n",
       "      <td>97.250000</td>\n",
       "      <td>34.000021</td>\n",
       "      <td>3410.000000</td>\n",
       "      <td>6946.000000</td>\n",
       "      <td>8714.000000</td>\n",
       "    </tr>\n",
       "  </tbody>\n",
       "</table>\n",
       "</div>"
      ],
      "text/plain": [
       "          instant      season          yr        mnth     holiday     weekday  \\\n",
       "count  730.000000  730.000000  730.000000  730.000000  730.000000  730.000000   \n",
       "mean   365.500000    2.498630    0.500000    6.526027    0.028767    2.997260   \n",
       "std    210.877136    1.110184    0.500343    3.450215    0.167266    2.006161   \n",
       "min      1.000000    1.000000    0.000000    1.000000    0.000000    0.000000   \n",
       "25%    183.250000    2.000000    0.000000    4.000000    0.000000    1.000000   \n",
       "50%    365.500000    3.000000    0.500000    7.000000    0.000000    3.000000   \n",
       "75%    547.750000    3.000000    1.000000   10.000000    0.000000    5.000000   \n",
       "max    730.000000    4.000000    1.000000   12.000000    1.000000    6.000000   \n",
       "\n",
       "       workingday  weathersit        temp       atemp         hum   windspeed  \\\n",
       "count  730.000000  730.000000  730.000000  730.000000  730.000000  730.000000   \n",
       "mean     0.683562    1.394521   20.319259   23.726322   62.765175   12.763620   \n",
       "std      0.465405    0.544807    7.506729    8.150308   14.237589    5.195841   \n",
       "min      0.000000    1.000000    2.424346    3.953480    0.000000    1.500244   \n",
       "25%      0.000000    1.000000   13.811885   16.889713   52.000000    9.041650   \n",
       "50%      1.000000    1.000000   20.465826   24.368225   62.625000   12.125325   \n",
       "75%      1.000000    2.000000   26.880615   30.445775   72.989575   15.625589   \n",
       "max      1.000000    3.000000   35.328347   42.044800   97.250000   34.000021   \n",
       "\n",
       "            casual   registered          cnt  \n",
       "count   730.000000   730.000000   730.000000  \n",
       "mean    849.249315  3658.757534  4508.006849  \n",
       "std     686.479875  1559.758728  1936.011647  \n",
       "min       2.000000    20.000000    22.000000  \n",
       "25%     316.250000  2502.250000  3169.750000  \n",
       "50%     717.000000  3664.500000  4548.500000  \n",
       "75%    1096.500000  4783.250000  5966.000000  \n",
       "max    3410.000000  6946.000000  8714.000000  "
      ]
     },
     "execution_count": 354,
     "metadata": {},
     "output_type": "execute_result"
    }
   ],
   "source": [
    "bike_df.describe()"
   ]
  },
  {
   "cell_type": "markdown",
   "id": "7f8cb8ca",
   "metadata": {},
   "source": [
    "<b>Observation:</b>\n",
    "- Except column:dteday which is object type, all other columns are either float or integer type.\n",
    "- Columns categorical in nature are:  season, mnth, weathersit etc.\n",
    "- There are no null values in any columns"
   ]
  },
  {
   "cell_type": "markdown",
   "id": "a27fcc15",
   "metadata": {},
   "source": [
    "## Step 2. Data Cleaning"
   ]
  },
  {
   "cell_type": "markdown",
   "id": "6eb462fe",
   "metadata": {},
   "source": [
    "#### 2.1 Check for null values"
   ]
  },
  {
   "cell_type": "code",
   "execution_count": 355,
   "id": "e8b4872a",
   "metadata": {},
   "outputs": [
    {
     "data": {
      "text/plain": [
       "(730, 16)"
      ]
     },
     "execution_count": 355,
     "metadata": {},
     "output_type": "execute_result"
    }
   ],
   "source": [
    "# Considering only those columns which have null values less than 40% in that particular column\n",
    "bike_df = bike_df[bike_df.columns[((bike_df.isnull().sum())/len(bike_df)) < 0.4]]\n",
    "bike_df.shape"
   ]
  },
  {
   "cell_type": "markdown",
   "id": "70795af8",
   "metadata": {},
   "source": [
    "As the shape is same as of the original dataframe, there are no missing values in any of the columns "
   ]
  },
  {
   "cell_type": "markdown",
   "id": "cc833758",
   "metadata": {},
   "source": [
    "#### 2.2 Removing redundant & unwanted columns\n",
    "As observed from the data , some columns can be dropped out."
   ]
  },
  {
   "cell_type": "code",
   "execution_count": 356,
   "id": "4599f7f8",
   "metadata": {},
   "outputs": [
    {
     "data": {
      "text/plain": [
       "(730, 12)"
      ]
     },
     "execution_count": 356,
     "metadata": {},
     "output_type": "execute_result"
    }
   ],
   "source": [
    "del_cols = [\"instant\",\"dteday\",\"casual\",\"registered\"]\n",
    "bike_df.drop(columns=del_cols, inplace=True)\n",
    "bike_df.shape"
   ]
  },
  {
   "cell_type": "markdown",
   "id": "90fa6f0e",
   "metadata": {},
   "source": [
    "#### 2.3 converting columns : 'mnth', 'weekday', 'season' & 'weathersit' into categorical types"
   ]
  },
  {
   "cell_type": "code",
   "execution_count": 357,
   "id": "147d44ff",
   "metadata": {},
   "outputs": [],
   "source": [
    "# Convert to 'category' data type\n",
    "bike_df['mnth']=bike_df['mnth'].astype('category')\n",
    "bike_df['weekday']=bike_df['weekday'].astype('category')\n",
    "bike_df['season']=bike_df['season'].astype('category')\n",
    "bike_df['weathersit']=bike_df['weathersit'].astype('category')"
   ]
  },
  {
   "cell_type": "markdown",
   "id": "308f2381",
   "metadata": {},
   "source": [
    "- 2.3.1 converting season values as per criteria - 1:Spring, 2:Summer, 3:Fall, 4:Winter"
   ]
  },
  {
   "cell_type": "code",
   "execution_count": 358,
   "id": "78ea132c",
   "metadata": {},
   "outputs": [],
   "source": [
    "bike_df[\"season\"].replace({1: \"spring\", 2: \"summer\", 3: \"fall\", 4: \"winter\"}, inplace=True)"
   ]
  },
  {
   "cell_type": "markdown",
   "id": "4db69cb7",
   "metadata": {},
   "source": [
    "- converting mnth values as 1:Jan, 2:Feb, 3:Mar, 4:Apr, 5:May, 6:Jun, 7:Jul, 8:Aug, 9:Sep, 10:Oct, 11:Nov, 12:Dec"
   ]
  },
  {
   "cell_type": "code",
   "execution_count": 360,
   "id": "a6731c1c",
   "metadata": {},
   "outputs": [],
   "source": [
    "bike_df[\"mnth\"].replace({1: \"Jan\", 2: \"Feb\", 3: \"Mar\", 4: \"Apr\",5:\"May\",6:\"Jun\",7:\"Jul\",8:\"Aug\",9:\"Sep\",10:\"Oct\",11:\"Nov\",12:\"Dec\"}, inplace=True)\n"
   ]
  },
  {
   "cell_type": "markdown",
   "id": "92be27da",
   "metadata": {},
   "source": [
    "- weathersit: converting values as<br> \n",
    "    - 1: Clear, Few clouds, Partly cloudy, Partly cloudy<br>\n",
    "\t- 2: Mist + Cloudy, Mist + Broken clouds, Mist + Few clouds, Mist<br>\n",
    "\t- 3: Light Snow, Light Rain + Thunderstorm + Scattered clouds, Light Rain + Scattered clouds<br>\t\t\n",
    "    - 4: Heavy Rain + Ice Pallets + Thunderstorm + Mist, Snow + Fog<br>"
   ]
  },
  {
   "cell_type": "code",
   "execution_count": 361,
   "id": "996e8982",
   "metadata": {},
   "outputs": [],
   "source": [
    "bike_df[\"weathersit\"].replace({1: \"Clear\", 2: \"Mist\", 3: \"Light_rain_snow\", 4: \"Heavy_rain_snow\"}, inplace=True)\n"
   ]
  },
  {
   "cell_type": "markdown",
   "id": "e08b01ae",
   "metadata": {},
   "source": [
    "- weekday: converting values as 0:Sun, 1:Monday, 2:Tuesday, 3:Wednesday, 4:Thursday, 5:Friday, 6:Saturday"
   ]
  },
  {
   "cell_type": "code",
   "execution_count": 362,
   "id": "077af472",
   "metadata": {},
   "outputs": [],
   "source": [
    "bike_df[\"weekday\"].replace({0: \"Sunday\", 1: \"Monday\", 2: \"Tuesday\", 3: \"Wednesday\",4:\"Thursday\",5:\"Friday\",6:\"Saturday\"}, inplace=True)\n"
   ]
  },
  {
   "cell_type": "markdown",
   "id": "b3d42d27",
   "metadata": {},
   "source": [
    "## Step 3. Data Visualization"
   ]
  },
  {
   "cell_type": "markdown",
   "id": "a2698696",
   "metadata": {},
   "source": [
    "#### 3.1 pairplots for continuous numeric variables"
   ]
  },
  {
   "cell_type": "code",
   "execution_count": 365,
   "id": "41a38527",
   "metadata": {},
   "outputs": [
    {
     "data": {
      "text/plain": [
       "<Figure size 1080x2160 with 0 Axes>"
      ]
     },
     "metadata": {},
     "output_type": "display_data"
    },
    {
     "data": {
      "image/png": "[encoded data removed]",
      "text/plain": [
       "<Figure size 900x900 with 30 Axes>"
      ]
     },
     "metadata": {
      "needs_background": "light"
     },
     "output_type": "display_data"
    }
   ],
   "source": [
    "plt.figure(figsize = (15,30))\n",
    "sns.pairplot(bike_df,vars=[ 'temp', 'atemp', 'hum','windspeed','cnt'])\n",
    "plt.show()"
   ]
  },
  {
   "cell_type": "markdown",
   "id": "4d97c015",
   "metadata": {},
   "source": [
    "<b>Observation :</b>\n",
    "- temp and atemp are highly correlated to cnt and also to each other"
   ]
  },
  {
   "cell_type": "markdown",
   "id": "6deea9fd",
   "metadata": {},
   "source": [
    "#### 3.2 Correlations for numeric variables"
   ]
  },
  {
   "cell_type": "code",
   "execution_count": 364,
   "id": "e436f446",
   "metadata": {},
   "outputs": [
    {
     "data": {
      "image/png": "[encoded data removed]",
      "text/plain": [
       "<Figure size 720x576 with 2 Axes>"
      ]
     },
     "metadata": {
      "needs_background": "light"
     },
     "output_type": "display_data"
    }
   ],
   "source": [
    "plt.figure(figsize = (10, 8))\n",
    "sns.heatmap(bike_df.corr(), cmap=\"YlGnBu\", annot = True)\n",
    "plt.show()"
   ]
  },
  {
   "cell_type": "markdown",
   "id": "bfc48b84",
   "metadata": {},
   "source": [
    "#### 3.3 Visualising Categorical Variables\n",
    "As you might have noticed, there are a few categorical variables as well. Let's make a boxplot for some of these variables"
   ]
  },
  {
   "cell_type": "code",
   "execution_count": 366,
   "id": "a6f857a5",
   "metadata": {},
   "outputs": [
    {
     "data": {
      "image/png": "[encoded data removed]",
      "text/plain": [
       "<Figure size 1440x864 with 6 Axes>"
      ]
     },
     "metadata": {
      "needs_background": "light"
     },
     "output_type": "display_data"
    }
   ],
   "source": [
    "plt.figure(figsize=(20, 12))\n",
    "plt.subplot(2,3,1)\n",
    "sns.boxplot(x = 'weathersit', y = 'cnt', data = bike_df)\n",
    "plt.subplot(2,3,2)\n",
    "sns.boxplot(x = 'weekday', y = 'cnt', data = bike_df)\n",
    "plt.subplot(2,3,3)\n",
    "sns.boxplot(x = 'mnth', y = 'cnt', data = bike_df)\n",
    "plt.subplot(2,3,4)\n",
    "sns.boxplot(x = 'season', y = 'cnt', data = bike_df)\n",
    "plt.subplot(2,3,5)\n",
    "sns.boxplot(x = 'yr', y = 'cnt', data = bike_df)\n",
    "plt.subplot(2,3,6)\n",
    "sns.boxplot(x = 'holiday', y = 'cnt', data = bike_df)\n",
    "plt.show()"
   ]
  },
  {
   "cell_type": "markdown",
   "id": "bf609b47",
   "metadata": {},
   "source": [
    "<b>Observation:</b><br>\n",
    "- Clear weather has the highest demand count\n",
    "- No clear understanding for weekday\n",
    "- Demand increases continously till September where it is maximum and after that it decreases.\n",
    "- Season- 3:fall has highest demand\n",
    "- Demand is high for 2019\n",
    "- Demand decreases on holiday"
   ]
  },
  {
   "cell_type": "markdown",
   "id": "f6c7a8d2",
   "metadata": {},
   "source": [
    "## Step 4. Data Preparation for Linear Regression"
   ]
  },
  {
   "cell_type": "markdown",
   "id": "c814c234",
   "metadata": {},
   "source": [
    "#### 4.1 Create dummy variables for all categorical variables"
   ]
  },
  {
   "cell_type": "code",
   "execution_count": 367,
   "id": "f6441299",
   "metadata": {},
   "outputs": [
    {
     "data": {
      "text/html": [
       "<div>\n",
       "<style scoped>\n",
       "    .dataframe tbody tr th:only-of-type {\n",
       "        vertical-align: middle;\n",
       "    }\n",
       "\n",
       "    .dataframe tbody tr th {\n",
       "        vertical-align: top;\n",
       "    }\n",
       "\n",
       "    .dataframe thead th {\n",
       "        text-align: right;\n",
       "    }\n",
       "</style>\n",
       "<table border=\"1\" class=\"dataframe\">\n",
       "  <thead>\n",
       "    <tr style=\"text-align: right;\">\n",
       "      <th></th>\n",
       "      <th>spring</th>\n",
       "      <th>summer</th>\n",
       "      <th>winter</th>\n",
       "    </tr>\n",
       "  </thead>\n",
       "  <tbody>\n",
       "    <tr>\n",
       "      <th>0</th>\n",
       "      <td>1</td>\n",
       "      <td>0</td>\n",
       "      <td>0</td>\n",
       "    </tr>\n",
       "    <tr>\n",
       "      <th>1</th>\n",
       "      <td>1</td>\n",
       "      <td>0</td>\n",
       "      <td>0</td>\n",
       "    </tr>\n",
       "    <tr>\n",
       "      <th>2</th>\n",
       "      <td>1</td>\n",
       "      <td>0</td>\n",
       "      <td>0</td>\n",
       "    </tr>\n",
       "    <tr>\n",
       "      <th>3</th>\n",
       "      <td>1</td>\n",
       "      <td>0</td>\n",
       "      <td>0</td>\n",
       "    </tr>\n",
       "    <tr>\n",
       "      <th>4</th>\n",
       "      <td>1</td>\n",
       "      <td>0</td>\n",
       "      <td>0</td>\n",
       "    </tr>\n",
       "  </tbody>\n",
       "</table>\n",
       "</div>"
      ],
      "text/plain": [
       "   spring  summer  winter\n",
       "0       1       0       0\n",
       "1       1       0       0\n",
       "2       1       0       0\n",
       "3       1       0       0\n",
       "4       1       0       0"
      ]
     },
     "execution_count": 367,
     "metadata": {},
     "output_type": "execute_result"
    }
   ],
   "source": [
    "## Season\n",
    "season = pd.get_dummies(bike_df['season'], drop_first = True)\n",
    "season.head()"
   ]
  },
  {
   "cell_type": "code",
   "execution_count": 368,
   "id": "058cef54",
   "metadata": {},
   "outputs": [
    {
     "data": {
      "text/html": [
       "<div>\n",
       "<style scoped>\n",
       "    .dataframe tbody tr th:only-of-type {\n",
       "        vertical-align: middle;\n",
       "    }\n",
       "\n",
       "    .dataframe tbody tr th {\n",
       "        vertical-align: top;\n",
       "    }\n",
       "\n",
       "    .dataframe thead th {\n",
       "        text-align: right;\n",
       "    }\n",
       "</style>\n",
       "<table border=\"1\" class=\"dataframe\">\n",
       "  <thead>\n",
       "    <tr style=\"text-align: right;\">\n",
       "      <th></th>\n",
       "      <th>Light_rain_snow</th>\n",
       "      <th>Mist</th>\n",
       "    </tr>\n",
       "  </thead>\n",
       "  <tbody>\n",
       "    <tr>\n",
       "      <th>0</th>\n",
       "      <td>0</td>\n",
       "      <td>1</td>\n",
       "    </tr>\n",
       "    <tr>\n",
       "      <th>1</th>\n",
       "      <td>0</td>\n",
       "      <td>1</td>\n",
       "    </tr>\n",
       "    <tr>\n",
       "      <th>2</th>\n",
       "      <td>0</td>\n",
       "      <td>0</td>\n",
       "    </tr>\n",
       "    <tr>\n",
       "      <th>3</th>\n",
       "      <td>0</td>\n",
       "      <td>0</td>\n",
       "    </tr>\n",
       "    <tr>\n",
       "      <th>4</th>\n",
       "      <td>0</td>\n",
       "      <td>0</td>\n",
       "    </tr>\n",
       "  </tbody>\n",
       "</table>\n",
       "</div>"
      ],
      "text/plain": [
       "   Light_rain_snow  Mist\n",
       "0                0     1\n",
       "1                0     1\n",
       "2                0     0\n",
       "3                0     0\n",
       "4                0     0"
      ]
     },
     "execution_count": 368,
     "metadata": {},
     "output_type": "execute_result"
    }
   ],
   "source": [
    "## Weather\n",
    "weather = pd.get_dummies(bike_df['weathersit'], drop_first = True)\n",
    "weather.head()"
   ]
  },
  {
   "cell_type": "code",
   "execution_count": 369,
   "id": "a047333e",
   "metadata": {},
   "outputs": [
    {
     "data": {
      "text/html": [
       "<div>\n",
       "<style scoped>\n",
       "    .dataframe tbody tr th:only-of-type {\n",
       "        vertical-align: middle;\n",
       "    }\n",
       "\n",
       "    .dataframe tbody tr th {\n",
       "        vertical-align: top;\n",
       "    }\n",
       "\n",
       "    .dataframe thead th {\n",
       "        text-align: right;\n",
       "    }\n",
       "</style>\n",
       "<table border=\"1\" class=\"dataframe\">\n",
       "  <thead>\n",
       "    <tr style=\"text-align: right;\">\n",
       "      <th></th>\n",
       "      <th>Aug</th>\n",
       "      <th>Dec</th>\n",
       "      <th>Feb</th>\n",
       "      <th>Jan</th>\n",
       "      <th>Jul</th>\n",
       "      <th>Jun</th>\n",
       "      <th>Mar</th>\n",
       "      <th>May</th>\n",
       "      <th>Nov</th>\n",
       "      <th>Oct</th>\n",
       "      <th>Sep</th>\n",
       "    </tr>\n",
       "  </thead>\n",
       "  <tbody>\n",
       "    <tr>\n",
       "      <th>0</th>\n",
       "      <td>0</td>\n",
       "      <td>0</td>\n",
       "      <td>0</td>\n",
       "      <td>1</td>\n",
       "      <td>0</td>\n",
       "      <td>0</td>\n",
       "      <td>0</td>\n",
       "      <td>0</td>\n",
       "      <td>0</td>\n",
       "      <td>0</td>\n",
       "      <td>0</td>\n",
       "    </tr>\n",
       "    <tr>\n",
       "      <th>1</th>\n",
       "      <td>0</td>\n",
       "      <td>0</td>\n",
       "      <td>0</td>\n",
       "      <td>1</td>\n",
       "      <td>0</td>\n",
       "      <td>0</td>\n",
       "      <td>0</td>\n",
       "      <td>0</td>\n",
       "      <td>0</td>\n",
       "      <td>0</td>\n",
       "      <td>0</td>\n",
       "    </tr>\n",
       "    <tr>\n",
       "      <th>2</th>\n",
       "      <td>0</td>\n",
       "      <td>0</td>\n",
       "      <td>0</td>\n",
       "      <td>1</td>\n",
       "      <td>0</td>\n",
       "      <td>0</td>\n",
       "      <td>0</td>\n",
       "      <td>0</td>\n",
       "      <td>0</td>\n",
       "      <td>0</td>\n",
       "      <td>0</td>\n",
       "    </tr>\n",
       "    <tr>\n",
       "      <th>3</th>\n",
       "      <td>0</td>\n",
       "      <td>0</td>\n",
       "      <td>0</td>\n",
       "      <td>1</td>\n",
       "      <td>0</td>\n",
       "      <td>0</td>\n",
       "      <td>0</td>\n",
       "      <td>0</td>\n",
       "      <td>0</td>\n",
       "      <td>0</td>\n",
       "      <td>0</td>\n",
       "    </tr>\n",
       "    <tr>\n",
       "      <th>4</th>\n",
       "      <td>0</td>\n",
       "      <td>0</td>\n",
       "      <td>0</td>\n",
       "      <td>1</td>\n",
       "      <td>0</td>\n",
       "      <td>0</td>\n",
       "      <td>0</td>\n",
       "      <td>0</td>\n",
       "      <td>0</td>\n",
       "      <td>0</td>\n",
       "      <td>0</td>\n",
       "    </tr>\n",
       "  </tbody>\n",
       "</table>\n",
       "</div>"
      ],
      "text/plain": [
       "   Aug  Dec  Feb  Jan  Jul  Jun  Mar  May  Nov  Oct  Sep\n",
       "0    0    0    0    1    0    0    0    0    0    0    0\n",
       "1    0    0    0    1    0    0    0    0    0    0    0\n",
       "2    0    0    0    1    0    0    0    0    0    0    0\n",
       "3    0    0    0    1    0    0    0    0    0    0    0\n",
       "4    0    0    0    1    0    0    0    0    0    0    0"
      ]
     },
     "execution_count": 369,
     "metadata": {},
     "output_type": "execute_result"
    }
   ],
   "source": [
    "## Month\n",
    "mnth = pd.get_dummies(bike_df['mnth'], drop_first = True)\n",
    "mnth.head()"
   ]
  },
  {
   "cell_type": "code",
   "execution_count": 370,
   "id": "4fa692f7",
   "metadata": {},
   "outputs": [
    {
     "data": {
      "text/html": [
       "<div>\n",
       "<style scoped>\n",
       "    .dataframe tbody tr th:only-of-type {\n",
       "        vertical-align: middle;\n",
       "    }\n",
       "\n",
       "    .dataframe tbody tr th {\n",
       "        vertical-align: top;\n",
       "    }\n",
       "\n",
       "    .dataframe thead th {\n",
       "        text-align: right;\n",
       "    }\n",
       "</style>\n",
       "<table border=\"1\" class=\"dataframe\">\n",
       "  <thead>\n",
       "    <tr style=\"text-align: right;\">\n",
       "      <th></th>\n",
       "      <th>Monday</th>\n",
       "      <th>Saturday</th>\n",
       "      <th>Sunday</th>\n",
       "      <th>Thursday</th>\n",
       "      <th>Tuesday</th>\n",
       "      <th>Wednesday</th>\n",
       "    </tr>\n",
       "  </thead>\n",
       "  <tbody>\n",
       "    <tr>\n",
       "      <th>0</th>\n",
       "      <td>0</td>\n",
       "      <td>1</td>\n",
       "      <td>0</td>\n",
       "      <td>0</td>\n",
       "      <td>0</td>\n",
       "      <td>0</td>\n",
       "    </tr>\n",
       "    <tr>\n",
       "      <th>1</th>\n",
       "      <td>0</td>\n",
       "      <td>0</td>\n",
       "      <td>1</td>\n",
       "      <td>0</td>\n",
       "      <td>0</td>\n",
       "      <td>0</td>\n",
       "    </tr>\n",
       "    <tr>\n",
       "      <th>2</th>\n",
       "      <td>1</td>\n",
       "      <td>0</td>\n",
       "      <td>0</td>\n",
       "      <td>0</td>\n",
       "      <td>0</td>\n",
       "      <td>0</td>\n",
       "    </tr>\n",
       "    <tr>\n",
       "      <th>3</th>\n",
       "      <td>0</td>\n",
       "      <td>0</td>\n",
       "      <td>0</td>\n",
       "      <td>0</td>\n",
       "      <td>1</td>\n",
       "      <td>0</td>\n",
       "    </tr>\n",
       "    <tr>\n",
       "      <th>4</th>\n",
       "      <td>0</td>\n",
       "      <td>0</td>\n",
       "      <td>0</td>\n",
       "      <td>0</td>\n",
       "      <td>0</td>\n",
       "      <td>1</td>\n",
       "    </tr>\n",
       "  </tbody>\n",
       "</table>\n",
       "</div>"
      ],
      "text/plain": [
       "   Monday  Saturday  Sunday  Thursday  Tuesday  Wednesday\n",
       "0       0         1       0         0        0          0\n",
       "1       0         0       1         0        0          0\n",
       "2       1         0       0         0        0          0\n",
       "3       0         0       0         0        1          0\n",
       "4       0         0       0         0        0          1"
      ]
     },
     "execution_count": 370,
     "metadata": {},
     "output_type": "execute_result"
    }
   ],
   "source": [
    "## Weekday\n",
    "weekday = pd.get_dummies(bike_df['weekday'], drop_first = True)\n",
    "weekday.head()"
   ]
  },
  {
   "cell_type": "code",
   "execution_count": 371,
   "id": "45f1f32e",
   "metadata": {},
   "outputs": [
    {
     "data": {
      "text/html": [
       "<div>\n",
       "<style scoped>\n",
       "    .dataframe tbody tr th:only-of-type {\n",
       "        vertical-align: middle;\n",
       "    }\n",
       "\n",
       "    .dataframe tbody tr th {\n",
       "        vertical-align: top;\n",
       "    }\n",
       "\n",
       "    .dataframe thead th {\n",
       "        text-align: right;\n",
       "    }\n",
       "</style>\n",
       "<table border=\"1\" class=\"dataframe\">\n",
       "  <thead>\n",
       "    <tr style=\"text-align: right;\">\n",
       "      <th></th>\n",
       "      <th>season</th>\n",
       "      <th>yr</th>\n",
       "      <th>mnth</th>\n",
       "      <th>holiday</th>\n",
       "      <th>weekday</th>\n",
       "      <th>workingday</th>\n",
       "      <th>weathersit</th>\n",
       "      <th>temp</th>\n",
       "      <th>atemp</th>\n",
       "      <th>hum</th>\n",
       "      <th>...</th>\n",
       "      <th>Oct</th>\n",
       "      <th>Sep</th>\n",
       "      <th>Light_rain_snow</th>\n",
       "      <th>Mist</th>\n",
       "      <th>Monday</th>\n",
       "      <th>Saturday</th>\n",
       "      <th>Sunday</th>\n",
       "      <th>Thursday</th>\n",
       "      <th>Tuesday</th>\n",
       "      <th>Wednesday</th>\n",
       "    </tr>\n",
       "  </thead>\n",
       "  <tbody>\n",
       "    <tr>\n",
       "      <th>0</th>\n",
       "      <td>spring</td>\n",
       "      <td>0</td>\n",
       "      <td>Jan</td>\n",
       "      <td>0</td>\n",
       "      <td>Saturday</td>\n",
       "      <td>0</td>\n",
       "      <td>Mist</td>\n",
       "      <td>14.110847</td>\n",
       "      <td>18.18125</td>\n",
       "      <td>80.5833</td>\n",
       "      <td>...</td>\n",
       "      <td>0</td>\n",
       "      <td>0</td>\n",
       "      <td>0</td>\n",
       "      <td>1</td>\n",
       "      <td>0</td>\n",
       "      <td>1</td>\n",
       "      <td>0</td>\n",
       "      <td>0</td>\n",
       "      <td>0</td>\n",
       "      <td>0</td>\n",
       "    </tr>\n",
       "    <tr>\n",
       "      <th>1</th>\n",
       "      <td>spring</td>\n",
       "      <td>0</td>\n",
       "      <td>Jan</td>\n",
       "      <td>0</td>\n",
       "      <td>Sunday</td>\n",
       "      <td>0</td>\n",
       "      <td>Mist</td>\n",
       "      <td>14.902598</td>\n",
       "      <td>17.68695</td>\n",
       "      <td>69.6087</td>\n",
       "      <td>...</td>\n",
       "      <td>0</td>\n",
       "      <td>0</td>\n",
       "      <td>0</td>\n",
       "      <td>1</td>\n",
       "      <td>0</td>\n",
       "      <td>0</td>\n",
       "      <td>1</td>\n",
       "      <td>0</td>\n",
       "      <td>0</td>\n",
       "      <td>0</td>\n",
       "    </tr>\n",
       "    <tr>\n",
       "      <th>2</th>\n",
       "      <td>spring</td>\n",
       "      <td>0</td>\n",
       "      <td>Jan</td>\n",
       "      <td>0</td>\n",
       "      <td>Monday</td>\n",
       "      <td>1</td>\n",
       "      <td>Clear</td>\n",
       "      <td>8.050924</td>\n",
       "      <td>9.47025</td>\n",
       "      <td>43.7273</td>\n",
       "      <td>...</td>\n",
       "      <td>0</td>\n",
       "      <td>0</td>\n",
       "      <td>0</td>\n",
       "      <td>0</td>\n",
       "      <td>1</td>\n",
       "      <td>0</td>\n",
       "      <td>0</td>\n",
       "      <td>0</td>\n",
       "      <td>0</td>\n",
       "      <td>0</td>\n",
       "    </tr>\n",
       "    <tr>\n",
       "      <th>3</th>\n",
       "      <td>spring</td>\n",
       "      <td>0</td>\n",
       "      <td>Jan</td>\n",
       "      <td>0</td>\n",
       "      <td>Tuesday</td>\n",
       "      <td>1</td>\n",
       "      <td>Clear</td>\n",
       "      <td>8.200000</td>\n",
       "      <td>10.60610</td>\n",
       "      <td>59.0435</td>\n",
       "      <td>...</td>\n",
       "      <td>0</td>\n",
       "      <td>0</td>\n",
       "      <td>0</td>\n",
       "      <td>0</td>\n",
       "      <td>0</td>\n",
       "      <td>0</td>\n",
       "      <td>0</td>\n",
       "      <td>0</td>\n",
       "      <td>1</td>\n",
       "      <td>0</td>\n",
       "    </tr>\n",
       "    <tr>\n",
       "      <th>4</th>\n",
       "      <td>spring</td>\n",
       "      <td>0</td>\n",
       "      <td>Jan</td>\n",
       "      <td>0</td>\n",
       "      <td>Wednesday</td>\n",
       "      <td>1</td>\n",
       "      <td>Clear</td>\n",
       "      <td>9.305237</td>\n",
       "      <td>11.46350</td>\n",
       "      <td>43.6957</td>\n",
       "      <td>...</td>\n",
       "      <td>0</td>\n",
       "      <td>0</td>\n",
       "      <td>0</td>\n",
       "      <td>0</td>\n",
       "      <td>0</td>\n",
       "      <td>0</td>\n",
       "      <td>0</td>\n",
       "      <td>0</td>\n",
       "      <td>0</td>\n",
       "      <td>1</td>\n",
       "    </tr>\n",
       "  </tbody>\n",
       "</table>\n",
       "<p>5 rows × 34 columns</p>\n",
       "</div>"
      ],
      "text/plain": [
       "   season  yr mnth  holiday    weekday  workingday weathersit       temp  \\\n",
       "0  spring   0  Jan        0   Saturday           0       Mist  14.110847   \n",
       "1  spring   0  Jan        0     Sunday           0       Mist  14.902598   \n",
       "2  spring   0  Jan        0     Monday           1      Clear   8.050924   \n",
       "3  spring   0  Jan        0    Tuesday           1      Clear   8.200000   \n",
       "4  spring   0  Jan        0  Wednesday           1      Clear   9.305237   \n",
       "\n",
       "      atemp      hum  ...  Oct  Sep  Light_rain_snow  Mist  Monday  Saturday  \\\n",
       "0  18.18125  80.5833  ...    0    0                0     1       0         1   \n",
       "1  17.68695  69.6087  ...    0    0                0     1       0         0   \n",
       "2   9.47025  43.7273  ...    0    0                0     0       1         0   \n",
       "3  10.60610  59.0435  ...    0    0                0     0       0         0   \n",
       "4  11.46350  43.6957  ...    0    0                0     0       0         0   \n",
       "\n",
       "   Sunday  Thursday  Tuesday  Wednesday  \n",
       "0       0         0        0          0  \n",
       "1       1         0        0          0  \n",
       "2       0         0        0          0  \n",
       "3       0         0        1          0  \n",
       "4       0         0        0          1  \n",
       "\n",
       "[5 rows x 34 columns]"
      ]
     },
     "execution_count": 371,
     "metadata": {},
     "output_type": "execute_result"
    }
   ],
   "source": [
    "## Merging the Dataframes\n",
    "bike_df = pd.concat([bike_df,season,mnth,weather,weekday], axis = 1)\n",
    "bike_df.head()"
   ]
  },
  {
   "cell_type": "code",
   "execution_count": 372,
   "id": "2c3d9a01",
   "metadata": {},
   "outputs": [
    {
     "data": {
      "text/plain": [
       "(730, 34)"
      ]
     },
     "execution_count": 372,
     "metadata": {},
     "output_type": "execute_result"
    }
   ],
   "source": [
    "bike_df.shape"
   ]
  },
  {
   "cell_type": "code",
   "execution_count": 373,
   "id": "c67b8fb8",
   "metadata": {},
   "outputs": [
    {
     "data": {
      "text/plain": [
       "Index(['season', 'yr', 'mnth', 'holiday', 'weekday', 'workingday',\n",
       "       'weathersit', 'temp', 'atemp', 'hum', 'windspeed', 'cnt', 'spring',\n",
       "       'summer', 'winter', 'Aug', 'Dec', 'Feb', 'Jan', 'Jul', 'Jun', 'Mar',\n",
       "       'May', 'Nov', 'Oct', 'Sep', 'Light_rain_snow', 'Mist', 'Monday',\n",
       "       'Saturday', 'Sunday', 'Thursday', 'Tuesday', 'Wednesday'],\n",
       "      dtype='object')"
      ]
     },
     "execution_count": 373,
     "metadata": {},
     "output_type": "execute_result"
    }
   ],
   "source": [
    "bike_df.columns"
   ]
  },
  {
   "cell_type": "code",
   "execution_count": 101,
   "id": "d5b673fb",
   "metadata": {},
   "outputs": [
    {
     "name": "stdout",
     "output_type": "stream",
     "text": [
      "<class 'pandas.core.frame.DataFrame'>\n",
      "RangeIndex: 730 entries, 0 to 729\n",
      "Data columns (total 34 columns):\n",
      " #   Column           Non-Null Count  Dtype  \n",
      "---  ------           --------------  -----  \n",
      " 0   season           730 non-null    object \n",
      " 1   yr               730 non-null    int64  \n",
      " 2   mnth             730 non-null    object \n",
      " 3   holiday          730 non-null    int64  \n",
      " 4   weekday          730 non-null    object \n",
      " 5   workingday       730 non-null    int64  \n",
      " 6   weathersit       730 non-null    object \n",
      " 7   temp             730 non-null    float64\n",
      " 8   atemp            730 non-null    float64\n",
      " 9   hum              730 non-null    float64\n",
      " 10  windspeed        730 non-null    float64\n",
      " 11  cnt              730 non-null    int64  \n",
      " 12  spring           730 non-null    uint8  \n",
      " 13  summer           730 non-null    uint8  \n",
      " 14  winter           730 non-null    uint8  \n",
      " 15  Aug              730 non-null    uint8  \n",
      " 16  Dec              730 non-null    uint8  \n",
      " 17  Feb              730 non-null    uint8  \n",
      " 18  Jan              730 non-null    uint8  \n",
      " 19  Jul              730 non-null    uint8  \n",
      " 20  Jun              730 non-null    uint8  \n",
      " 21  Mar              730 non-null    uint8  \n",
      " 22  May              730 non-null    uint8  \n",
      " 23  Nov              730 non-null    uint8  \n",
      " 24  Oct              730 non-null    uint8  \n",
      " 25  Sep              730 non-null    uint8  \n",
      " 26  Light_rain_snow  730 non-null    uint8  \n",
      " 27  Mist             730 non-null    uint8  \n",
      " 28  Monday           730 non-null    uint8  \n",
      " 29  Saturday         730 non-null    uint8  \n",
      " 30  Sunday           730 non-null    uint8  \n",
      " 31  Thursday         730 non-null    uint8  \n",
      " 32  Tuesday          730 non-null    uint8  \n",
      " 33  Wednesday        730 non-null    uint8  \n",
      "dtypes: float64(4), int64(4), object(4), uint8(22)\n",
      "memory usage: 84.2+ KB\n"
     ]
    }
   ],
   "source": [
    "bike_df.info()"
   ]
  },
  {
   "cell_type": "code",
   "execution_count": 374,
   "id": "f7ea9b3f",
   "metadata": {},
   "outputs": [
    {
     "data": {
      "text/plain": [
       "(730, 30)"
      ]
     },
     "execution_count": 374,
     "metadata": {},
     "output_type": "execute_result"
    }
   ],
   "source": [
    "## Dropping unwanted columns\n",
    "bike_df.drop(['season','mnth','weathersit','weekday'],axis=1,inplace=True)\n",
    "bike_df.shape"
   ]
  },
  {
   "cell_type": "markdown",
   "id": "f8b819ad",
   "metadata": {},
   "source": [
    "<b>Observation:</b><br> - All the 30 columns are now as numeric value. We are ready for the first step of model building i.e. splitting into Train & Test dataframes.\n",
    "    "
   ]
  },
  {
   "cell_type": "markdown",
   "id": "ef29569d",
   "metadata": {},
   "source": [
    "## Step 5. Splitting the data into Train & Test Dataset"
   ]
  },
  {
   "cell_type": "markdown",
   "id": "9bc53d07",
   "metadata": {},
   "source": [
    "#### 5.1 Splitting the data"
   ]
  },
  {
   "cell_type": "code",
   "execution_count": 375,
   "id": "b061f82d",
   "metadata": {},
   "outputs": [],
   "source": [
    "# We specify this so that the train and test data set always have the same rows, respectively\n",
    "np.random.seed(0)\n",
    "bike_train, bike_test = train_test_split(bike_df, train_size = 0.7, random_state = 100)"
   ]
  },
  {
   "cell_type": "code",
   "execution_count": 376,
   "id": "22a0411f",
   "metadata": {},
   "outputs": [
    {
     "data": {
      "text/plain": [
       "(730, 30)"
      ]
     },
     "execution_count": 376,
     "metadata": {},
     "output_type": "execute_result"
    }
   ],
   "source": [
    "bike_df.shape"
   ]
  },
  {
   "cell_type": "code",
   "execution_count": 377,
   "id": "4ff699ef",
   "metadata": {},
   "outputs": [
    {
     "data": {
      "text/plain": [
       "(510, 30)"
      ]
     },
     "execution_count": 377,
     "metadata": {},
     "output_type": "execute_result"
    }
   ],
   "source": [
    "bike_train.shape"
   ]
  },
  {
   "cell_type": "code",
   "execution_count": 378,
   "id": "490ad7d9",
   "metadata": {},
   "outputs": [
    {
     "data": {
      "text/plain": [
       "(220, 30)"
      ]
     },
     "execution_count": 378,
     "metadata": {},
     "output_type": "execute_result"
    }
   ],
   "source": [
    "bike_test.shape"
   ]
  },
  {
   "cell_type": "code",
   "execution_count": 379,
   "id": "95eec21a",
   "metadata": {},
   "outputs": [
    {
     "name": "stdout",
     "output_type": "stream",
     "text": [
      "<class 'pandas.core.frame.DataFrame'>\n",
      "Int64Index: 510 entries, 576 to 520\n",
      "Data columns (total 30 columns):\n",
      " #   Column           Non-Null Count  Dtype  \n",
      "---  ------           --------------  -----  \n",
      " 0   yr               510 non-null    int64  \n",
      " 1   holiday          510 non-null    int64  \n",
      " 2   workingday       510 non-null    int64  \n",
      " 3   temp             510 non-null    float64\n",
      " 4   atemp            510 non-null    float64\n",
      " 5   hum              510 non-null    float64\n",
      " 6   windspeed        510 non-null    float64\n",
      " 7   cnt              510 non-null    int64  \n",
      " 8   spring           510 non-null    uint8  \n",
      " 9   summer           510 non-null    uint8  \n",
      " 10  winter           510 non-null    uint8  \n",
      " 11  Aug              510 non-null    uint8  \n",
      " 12  Dec              510 non-null    uint8  \n",
      " 13  Feb              510 non-null    uint8  \n",
      " 14  Jan              510 non-null    uint8  \n",
      " 15  Jul              510 non-null    uint8  \n",
      " 16  Jun              510 non-null    uint8  \n",
      " 17  Mar              510 non-null    uint8  \n",
      " 18  May              510 non-null    uint8  \n",
      " 19  Nov              510 non-null    uint8  \n",
      " 20  Oct              510 non-null    uint8  \n",
      " 21  Sep              510 non-null    uint8  \n",
      " 22  Light_rain_snow  510 non-null    uint8  \n",
      " 23  Mist             510 non-null    uint8  \n",
      " 24  Monday           510 non-null    uint8  \n",
      " 25  Saturday         510 non-null    uint8  \n",
      " 26  Sunday           510 non-null    uint8  \n",
      " 27  Thursday         510 non-null    uint8  \n",
      " 28  Tuesday          510 non-null    uint8  \n",
      " 29  Wednesday        510 non-null    uint8  \n",
      "dtypes: float64(4), int64(4), uint8(22)\n",
      "memory usage: 46.8 KB\n"
     ]
    }
   ],
   "source": [
    "bike_train.info()"
   ]
  },
  {
   "cell_type": "markdown",
   "id": "d7abd4d8",
   "metadata": {},
   "source": [
    "#### 5.2 Rescalling bike_train dataframe using MinMaxCcaler"
   ]
  },
  {
   "cell_type": "code",
   "execution_count": 382,
   "id": "087664e3",
   "metadata": {},
   "outputs": [],
   "source": [
    "scaler = MinMaxScaler()\n",
    "num_vars = ['temp','atemp','hum','windspeed','cnt']\n",
    "bike_train[num_vars] = scaler.fit_transform(bike_train[num_vars])"
   ]
  },
  {
   "cell_type": "code",
   "execution_count": 383,
   "id": "28ea55ea",
   "metadata": {},
   "outputs": [
    {
     "data": {
      "text/html": [
       "<div>\n",
       "<style scoped>\n",
       "    .dataframe tbody tr th:only-of-type {\n",
       "        vertical-align: middle;\n",
       "    }\n",
       "\n",
       "    .dataframe tbody tr th {\n",
       "        vertical-align: top;\n",
       "    }\n",
       "\n",
       "    .dataframe thead th {\n",
       "        text-align: right;\n",
       "    }\n",
       "</style>\n",
       "<table border=\"1\" class=\"dataframe\">\n",
       "  <thead>\n",
       "    <tr style=\"text-align: right;\">\n",
       "      <th></th>\n",
       "      <th>yr</th>\n",
       "      <th>holiday</th>\n",
       "      <th>workingday</th>\n",
       "      <th>temp</th>\n",
       "      <th>atemp</th>\n",
       "      <th>hum</th>\n",
       "      <th>windspeed</th>\n",
       "      <th>cnt</th>\n",
       "      <th>spring</th>\n",
       "      <th>summer</th>\n",
       "      <th>...</th>\n",
       "      <th>Oct</th>\n",
       "      <th>Sep</th>\n",
       "      <th>Light_rain_snow</th>\n",
       "      <th>Mist</th>\n",
       "      <th>Monday</th>\n",
       "      <th>Saturday</th>\n",
       "      <th>Sunday</th>\n",
       "      <th>Thursday</th>\n",
       "      <th>Tuesday</th>\n",
       "      <th>Wednesday</th>\n",
       "    </tr>\n",
       "  </thead>\n",
       "  <tbody>\n",
       "    <tr>\n",
       "      <th>576</th>\n",
       "      <td>1</td>\n",
       "      <td>0</td>\n",
       "      <td>1</td>\n",
       "      <td>0.815169</td>\n",
       "      <td>0.766351</td>\n",
       "      <td>0.725633</td>\n",
       "      <td>0.264686</td>\n",
       "      <td>0.827658</td>\n",
       "      <td>0</td>\n",
       "      <td>0</td>\n",
       "      <td>...</td>\n",
       "      <td>0</td>\n",
       "      <td>0</td>\n",
       "      <td>0</td>\n",
       "      <td>0</td>\n",
       "      <td>0</td>\n",
       "      <td>0</td>\n",
       "      <td>0</td>\n",
       "      <td>0</td>\n",
       "      <td>1</td>\n",
       "      <td>0</td>\n",
       "    </tr>\n",
       "    <tr>\n",
       "      <th>426</th>\n",
       "      <td>1</td>\n",
       "      <td>0</td>\n",
       "      <td>0</td>\n",
       "      <td>0.442393</td>\n",
       "      <td>0.438975</td>\n",
       "      <td>0.640189</td>\n",
       "      <td>0.255342</td>\n",
       "      <td>0.465255</td>\n",
       "      <td>1</td>\n",
       "      <td>0</td>\n",
       "      <td>...</td>\n",
       "      <td>0</td>\n",
       "      <td>0</td>\n",
       "      <td>0</td>\n",
       "      <td>1</td>\n",
       "      <td>0</td>\n",
       "      <td>1</td>\n",
       "      <td>0</td>\n",
       "      <td>0</td>\n",
       "      <td>0</td>\n",
       "      <td>0</td>\n",
       "    </tr>\n",
       "    <tr>\n",
       "      <th>728</th>\n",
       "      <td>1</td>\n",
       "      <td>0</td>\n",
       "      <td>0</td>\n",
       "      <td>0.245101</td>\n",
       "      <td>0.200348</td>\n",
       "      <td>0.498067</td>\n",
       "      <td>0.663106</td>\n",
       "      <td>0.204096</td>\n",
       "      <td>1</td>\n",
       "      <td>0</td>\n",
       "      <td>...</td>\n",
       "      <td>0</td>\n",
       "      <td>0</td>\n",
       "      <td>0</td>\n",
       "      <td>0</td>\n",
       "      <td>0</td>\n",
       "      <td>0</td>\n",
       "      <td>1</td>\n",
       "      <td>0</td>\n",
       "      <td>0</td>\n",
       "      <td>0</td>\n",
       "    </tr>\n",
       "    <tr>\n",
       "      <th>482</th>\n",
       "      <td>1</td>\n",
       "      <td>0</td>\n",
       "      <td>0</td>\n",
       "      <td>0.395666</td>\n",
       "      <td>0.391735</td>\n",
       "      <td>0.504508</td>\n",
       "      <td>0.188475</td>\n",
       "      <td>0.482973</td>\n",
       "      <td>0</td>\n",
       "      <td>1</td>\n",
       "      <td>...</td>\n",
       "      <td>0</td>\n",
       "      <td>0</td>\n",
       "      <td>0</td>\n",
       "      <td>1</td>\n",
       "      <td>0</td>\n",
       "      <td>1</td>\n",
       "      <td>0</td>\n",
       "      <td>0</td>\n",
       "      <td>0</td>\n",
       "      <td>0</td>\n",
       "    </tr>\n",
       "    <tr>\n",
       "      <th>111</th>\n",
       "      <td>0</td>\n",
       "      <td>0</td>\n",
       "      <td>1</td>\n",
       "      <td>0.345824</td>\n",
       "      <td>0.318819</td>\n",
       "      <td>0.751824</td>\n",
       "      <td>0.380981</td>\n",
       "      <td>0.191095</td>\n",
       "      <td>0</td>\n",
       "      <td>1</td>\n",
       "      <td>...</td>\n",
       "      <td>0</td>\n",
       "      <td>0</td>\n",
       "      <td>0</td>\n",
       "      <td>1</td>\n",
       "      <td>0</td>\n",
       "      <td>0</td>\n",
       "      <td>0</td>\n",
       "      <td>0</td>\n",
       "      <td>0</td>\n",
       "      <td>0</td>\n",
       "    </tr>\n",
       "  </tbody>\n",
       "</table>\n",
       "<p>5 rows × 30 columns</p>\n",
       "</div>"
      ],
      "text/plain": [
       "     yr  holiday  workingday      temp     atemp       hum  windspeed  \\\n",
       "576   1        0           1  0.815169  0.766351  0.725633   0.264686   \n",
       "426   1        0           0  0.442393  0.438975  0.640189   0.255342   \n",
       "728   1        0           0  0.245101  0.200348  0.498067   0.663106   \n",
       "482   1        0           0  0.395666  0.391735  0.504508   0.188475   \n",
       "111   0        0           1  0.345824  0.318819  0.751824   0.380981   \n",
       "\n",
       "          cnt  spring  summer  ...  Oct  Sep  Light_rain_snow  Mist  Monday  \\\n",
       "576  0.827658       0       0  ...    0    0                0     0       0   \n",
       "426  0.465255       1       0  ...    0    0                0     1       0   \n",
       "728  0.204096       1       0  ...    0    0                0     0       0   \n",
       "482  0.482973       0       1  ...    0    0                0     1       0   \n",
       "111  0.191095       0       1  ...    0    0                0     1       0   \n",
       "\n",
       "     Saturday  Sunday  Thursday  Tuesday  Wednesday  \n",
       "576         0       0         0        1          0  \n",
       "426         1       0         0        0          0  \n",
       "728         0       1         0        0          0  \n",
       "482         1       0         0        0          0  \n",
       "111         0       0         0        0          0  \n",
       "\n",
       "[5 rows x 30 columns]"
      ]
     },
     "execution_count": 383,
     "metadata": {},
     "output_type": "execute_result"
    }
   ],
   "source": [
    "bike_train.head()"
   ]
  },
  {
   "cell_type": "markdown",
   "id": "7116d9d5",
   "metadata": {},
   "source": [
    "## Step 6. Linear Model Building"
   ]
  },
  {
   "cell_type": "markdown",
   "id": "a5289d4c",
   "metadata": {},
   "source": [
    "#### 6.1 Dividing into X and Y sets for the model building"
   ]
  },
  {
   "cell_type": "code",
   "execution_count": 384,
   "id": "9e9fb940",
   "metadata": {},
   "outputs": [],
   "source": [
    "y_train = bike_train.pop('cnt')\n",
    "X_train = bike_train"
   ]
  },
  {
   "cell_type": "markdown",
   "id": "45086794",
   "metadata": {},
   "source": [
    "#### 6.2 Use RFE to eliminate some columns"
   ]
  },
  {
   "cell_type": "code",
   "execution_count": 385,
   "id": "7d20c0d8",
   "metadata": {},
   "outputs": [],
   "source": [
    "lm = LinearRegression()\n",
    "lm.fit(X_train, y_train)\n",
    "\n",
    "rfe = RFE(lm, 20)             # running RFE\n",
    "rfe = rfe.fit(X_train, y_train)"
   ]
  },
  {
   "cell_type": "code",
   "execution_count": 211,
   "id": "79fc2d4e",
   "metadata": {},
   "outputs": [
    {
     "data": {
      "text/plain": [
       "[('yr', True, 1),\n",
       " ('holiday', True, 1),\n",
       " ('workingday', True, 1),\n",
       " ('temp', True, 1),\n",
       " ('atemp', True, 1),\n",
       " ('hum', True, 1),\n",
       " ('windspeed', True, 1),\n",
       " ('spring', True, 1),\n",
       " ('summer', True, 1),\n",
       " ('winter', True, 1),\n",
       " ('Aug', False, 2),\n",
       " ('Dec', True, 1),\n",
       " ('Feb', True, 1),\n",
       " ('Jan', True, 1),\n",
       " ('Jul', True, 1),\n",
       " ('Jun', False, 9),\n",
       " ('Mar', False, 10),\n",
       " ('May', True, 1),\n",
       " ('Nov', True, 1),\n",
       " ('Oct', False, 8),\n",
       " ('Sep', True, 1),\n",
       " ('Light_rain_snow', True, 1),\n",
       " ('Mist', True, 1),\n",
       " ('Monday', False, 4),\n",
       " ('Saturday', True, 1),\n",
       " ('Sunday', False, 3),\n",
       " ('Thursday', False, 6),\n",
       " ('Tuesday', False, 5),\n",
       " ('Wednesday', False, 7)]"
      ]
     },
     "execution_count": 211,
     "metadata": {},
     "output_type": "execute_result"
    }
   ],
   "source": [
    "list(zip(X_train.columns,rfe.support_,rfe.ranking_))"
   ]
  },
  {
   "cell_type": "code",
   "execution_count": 386,
   "id": "9ce7176a",
   "metadata": {},
   "outputs": [
    {
     "data": {
      "text/plain": [
       "Index(['yr', 'holiday', 'workingday', 'temp', 'atemp', 'hum', 'windspeed',\n",
       "       'spring', 'summer', 'winter', 'Dec', 'Feb', 'Jan', 'Jul', 'May', 'Nov',\n",
       "       'Sep', 'Light_rain_snow', 'Mist', 'Saturday'],\n",
       "      dtype='object')"
      ]
     },
     "execution_count": 386,
     "metadata": {},
     "output_type": "execute_result"
    }
   ],
   "source": [
    "# storing the selected 20 variables in col list\n",
    "col = X_train.columns[rfe.support_]\n",
    "col"
   ]
  },
  {
   "cell_type": "code",
   "execution_count": 387,
   "id": "1162521e",
   "metadata": {},
   "outputs": [
    {
     "data": {
      "text/plain": [
       "Index(['Aug', 'Jun', 'Mar', 'Oct', 'Monday', 'Sunday', 'Thursday', 'Tuesday',\n",
       "       'Wednesday'],\n",
       "      dtype='object')"
      ]
     },
     "execution_count": 387,
     "metadata": {},
     "output_type": "execute_result"
    }
   ],
   "source": [
    "# checking which columns have been eleminated \n",
    "X_train.columns[~rfe.support_]"
   ]
  },
  {
   "cell_type": "code",
   "execution_count": 388,
   "id": "b44eff90",
   "metadata": {},
   "outputs": [],
   "source": [
    "# Creating X_train dataframe with RFE selected variables\n",
    "X_train_rfe = X_train[col]"
   ]
  },
  {
   "cell_type": "markdown",
   "id": "1dcc53cd",
   "metadata": {},
   "source": [
    "#### Reusable functions during model creation"
   ]
  },
  {
   "cell_type": "code",
   "execution_count": 389,
   "id": "ad9d298d",
   "metadata": {},
   "outputs": [],
   "source": [
    "#Function to build a model using statsmodel api.\n",
    "def create_model(cols):\n",
    "    X_train_sm = sm.add_constant(X_train[cols])\n",
    "    lm = sm.OLS(y_train, X_train_sm).fit()\n",
    "    print(lm.summary())\n",
    "    return lm"
   ]
  },
  {
   "cell_type": "code",
   "execution_count": 390,
   "id": "34c61b6f",
   "metadata": {},
   "outputs": [],
   "source": [
    "#Function to calculate VIFs\n",
    "def getVif(cols):\n",
    "    df = X_train[cols]\n",
    "    vif = pd.DataFrame()\n",
    "    vif['Features'] = df.columns\n",
    "    vif['VIF'] = [variance_inflation_factor(df.values, i) for i in range(df.shape[1])]\n",
    "    vif['VIF'] = round(vif['VIF'],2)\n",
    "    print(vif.sort_values(by='VIF',ascending=False))"
   ]
  },
  {
   "cell_type": "markdown",
   "id": "1816916f",
   "metadata": {},
   "source": [
    "#### 6.3 Manual model development using statsmodel"
   ]
  },
  {
   "cell_type": "markdown",
   "id": "19be18c1",
   "metadata": {},
   "source": [
    "##### Model 1 : Start with all variables selected by RFE"
   ]
  },
  {
   "cell_type": "code",
   "execution_count": 391,
   "id": "32f257d4",
   "metadata": {},
   "outputs": [
    {
     "name": "stdout",
     "output_type": "stream",
     "text": [
      "           Features     VIF\n",
      "3              temp  379.77\n",
      "4             atemp  368.95\n",
      "5               hum   31.79\n",
      "7            spring    5.73\n",
      "2        workingday    5.40\n",
      "6         windspeed    5.13\n",
      "9            winter    4.28\n",
      "8            summer    3.59\n",
      "12              Jan    2.40\n",
      "18             Mist    2.33\n",
      "0                yr    2.11\n",
      "19         Saturday    2.01\n",
      "11              Feb    1.92\n",
      "15              Nov    1.88\n",
      "10              Dec    1.70\n",
      "13              Jul    1.61\n",
      "14              May    1.59\n",
      "16              Sep    1.43\n",
      "17  Light_rain_snow    1.29\n",
      "1           holiday    1.21\n"
     ]
    }
   ],
   "source": [
    "#VIF Check\n",
    "getVif(X_train_rfe.columns)"
   ]
  },
  {
   "cell_type": "code",
   "execution_count": 392,
   "id": "6f618a57",
   "metadata": {},
   "outputs": [
    {
     "name": "stdout",
     "output_type": "stream",
     "text": [
      "                            OLS Regression Results                            \n",
      "==============================================================================\n",
      "Dep. Variable:                    cnt   R-squared:                       0.852\n",
      "Model:                            OLS   Adj. R-squared:                  0.846\n",
      "Method:                 Least Squares   F-statistic:                     140.3\n",
      "Date:                Wed, 15 Dec 2021   Prob (F-statistic):          6.28e-188\n",
      "Time:                        21:06:26   Log-Likelihood:                 525.41\n",
      "No. Observations:                 510   AIC:                            -1009.\n",
      "Df Residuals:                     489   BIC:                            -919.9\n",
      "Df Model:                          20                                         \n",
      "Covariance Type:            nonrobust                                         \n",
      "===================================================================================\n",
      "                      coef    std err          t      P>|t|      [0.025      0.975]\n",
      "-----------------------------------------------------------------------------------\n",
      "const               0.2973      0.039      7.717      0.000       0.222       0.373\n",
      "yr                  0.2318      0.008     29.075      0.000       0.216       0.247\n",
      "holiday            -0.0490      0.027     -1.816      0.070      -0.102       0.004\n",
      "workingday          0.0441      0.011      3.849      0.000       0.022       0.067\n",
      "temp                0.4267      0.134      3.194      0.001       0.164       0.689\n",
      "atemp               0.0273      0.135      0.202      0.840      -0.238       0.293\n",
      "hum                -0.1542      0.038     -4.095      0.000      -0.228      -0.080\n",
      "windspeed          -0.1862      0.026     -7.183      0.000      -0.237      -0.135\n",
      "spring             -0.0559      0.022     -2.529      0.012      -0.099      -0.012\n",
      "summer              0.0288      0.017      1.672      0.095      -0.005       0.063\n",
      "winter              0.0994      0.018      5.477      0.000       0.064       0.135\n",
      "Dec                -0.0488      0.018     -2.692      0.007      -0.084      -0.013\n",
      "Feb                -0.0347      0.021     -1.623      0.105      -0.077       0.007\n",
      "Jan                -0.0649      0.021     -3.058      0.002      -0.107      -0.023\n",
      "Jul                -0.0513      0.018     -2.849      0.005      -0.087      -0.016\n",
      "May                 0.0230      0.017      1.330      0.184      -0.011       0.057\n",
      "Nov                -0.0461      0.019     -2.456      0.014      -0.083      -0.009\n",
      "Sep                 0.0721      0.017      4.322      0.000       0.039       0.105\n",
      "Light_rain_snow    -0.2545      0.026     -9.724      0.000      -0.306      -0.203\n",
      "Mist               -0.0583      0.010     -5.643      0.000      -0.079      -0.038\n",
      "Saturday            0.0545      0.014      3.771      0.000       0.026       0.083\n",
      "==============================================================================\n",
      "Omnibus:                       83.276   Durbin-Watson:                   2.044\n",
      "Prob(Omnibus):                  0.000   Jarque-Bera (JB):              234.047\n",
      "Skew:                          -0.790   Prob(JB):                     1.50e-51\n",
      "Kurtosis:                       5.919   Cond. No.                         86.9\n",
      "==============================================================================\n",
      "\n",
      "Notes:\n",
      "[1] Standard Errors assume that the covariance matrix of the errors is correctly specified.\n"
     ]
    },
    {
     "data": {
      "text/plain": [
       "<statsmodels.regression.linear_model.RegressionResultsWrapper at 0x127fc2430>"
      ]
     },
     "execution_count": 392,
     "metadata": {},
     "output_type": "execute_result"
    }
   ],
   "source": [
    "# Create a model with RFE features\n",
    "create_model(X_train_rfe.columns)"
   ]
  },
  {
   "cell_type": "markdown",
   "id": "f47dfaa8",
   "metadata": {},
   "source": [
    "<b>Observation:</b><br>\n",
    "- All the rfe variables provide a R-squared value of .852 i.e. these variables explain a 85% variance in the cnt variable.\n",
    "- Both temp and atemp have high VIF values. We have to remove one of them. We will remove atemp as it has high p-value of .840"
   ]
  },
  {
   "cell_type": "markdown",
   "id": "6a5744e1",
   "metadata": {},
   "source": [
    "##### Model 2 : Removing the variable 'atemp' "
   ]
  },
  {
   "cell_type": "code",
   "execution_count": 393,
   "id": "b0ab01a0",
   "metadata": {},
   "outputs": [],
   "source": [
    "cols=['yr', 'holiday', 'workingday', 'temp', 'hum', 'windspeed',\n",
    "       'spring', 'summer', 'winter', 'Dec', 'Feb', 'Jan', 'Jul', 'May', 'Nov',\n",
    "       'Sep', 'Light_rain_snow', 'Mist', 'Saturday']"
   ]
  },
  {
   "cell_type": "code",
   "execution_count": 394,
   "id": "d5ef2fb9",
   "metadata": {},
   "outputs": [
    {
     "name": "stdout",
     "output_type": "stream",
     "text": [
      "           Features    VIF\n",
      "4               hum  31.74\n",
      "3              temp  19.84\n",
      "6            spring   5.62\n",
      "2        workingday   5.40\n",
      "5         windspeed   4.88\n",
      "8            winter   4.12\n",
      "7            summer   3.44\n",
      "11              Jan   2.40\n",
      "17             Mist   2.33\n",
      "0                yr   2.11\n",
      "18         Saturday   2.01\n",
      "10              Feb   1.92\n",
      "14              Nov   1.88\n",
      "9               Dec   1.70\n",
      "12              Jul   1.60\n",
      "13              May   1.58\n",
      "15              Sep   1.42\n",
      "16  Light_rain_snow   1.28\n",
      "1           holiday   1.21\n"
     ]
    }
   ],
   "source": [
    "## VIF Check\n",
    "getVif(cols)"
   ]
  },
  {
   "cell_type": "code",
   "execution_count": 395,
   "id": "002c3ad3",
   "metadata": {},
   "outputs": [
    {
     "name": "stdout",
     "output_type": "stream",
     "text": [
      "                            OLS Regression Results                            \n",
      "==============================================================================\n",
      "Dep. Variable:                    cnt   R-squared:                       0.852\n",
      "Model:                            OLS   Adj. R-squared:                  0.846\n",
      "Method:                 Least Squares   F-statistic:                     148.0\n",
      "Date:                Wed, 15 Dec 2021   Prob (F-statistic):          5.20e-189\n",
      "Time:                        21:07:20   Log-Likelihood:                 525.39\n",
      "No. Observations:                 510   AIC:                            -1011.\n",
      "Df Residuals:                     490   BIC:                            -926.1\n",
      "Df Model:                          19                                         \n",
      "Covariance Type:            nonrobust                                         \n",
      "===================================================================================\n",
      "                      coef    std err          t      P>|t|      [0.025      0.975]\n",
      "-----------------------------------------------------------------------------------\n",
      "const               0.2970      0.038      7.722      0.000       0.221       0.373\n",
      "yr                  0.2318      0.008     29.103      0.000       0.216       0.247\n",
      "holiday            -0.0492      0.027     -1.827      0.068      -0.102       0.004\n",
      "workingday          0.0441      0.011      3.852      0.000       0.022       0.067\n",
      "temp                0.4527      0.038     11.846      0.000       0.378       0.528\n",
      "hum                -0.1538      0.038     -4.094      0.000      -0.228      -0.080\n",
      "windspeed          -0.1873      0.025     -7.371      0.000      -0.237      -0.137\n",
      "spring             -0.0553      0.022     -2.528      0.012      -0.098      -0.012\n",
      "summer              0.0295      0.017      1.747      0.081      -0.004       0.063\n",
      "winter              0.1001      0.018      5.618      0.000       0.065       0.135\n",
      "Dec                -0.0488      0.018     -2.692      0.007      -0.084      -0.013\n",
      "Feb                -0.0348      0.021     -1.626      0.105      -0.077       0.007\n",
      "Jan                -0.0650      0.021     -3.067      0.002      -0.107      -0.023\n",
      "Jul                -0.0510      0.018     -2.844      0.005      -0.086      -0.016\n",
      "May                 0.0229      0.017      1.325      0.186      -0.011       0.057\n",
      "Nov                -0.0461      0.019     -2.456      0.014      -0.083      -0.009\n",
      "Sep                 0.0723      0.017      4.349      0.000       0.040       0.105\n",
      "Light_rain_snow    -0.2549      0.026     -9.773      0.000      -0.306      -0.204\n",
      "Mist               -0.0583      0.010     -5.655      0.000      -0.079      -0.038\n",
      "Saturday            0.0544      0.014      3.774      0.000       0.026       0.083\n",
      "==============================================================================\n",
      "Omnibus:                       82.971   Durbin-Watson:                   2.043\n",
      "Prob(Omnibus):                  0.000   Jarque-Bera (JB):              233.033\n",
      "Skew:                          -0.787   Prob(JB):                     2.50e-51\n",
      "Kurtosis:                       5.914   Cond. No.                         24.4\n",
      "==============================================================================\n",
      "\n",
      "Notes:\n",
      "[1] Standard Errors assume that the covariance matrix of the errors is correctly specified.\n"
     ]
    },
    {
     "data": {
      "text/plain": [
       "<statsmodels.regression.linear_model.RegressionResultsWrapper at 0x11e485fd0>"
      ]
     },
     "execution_count": 395,
     "metadata": {},
     "output_type": "execute_result"
    }
   ],
   "source": [
    "create_model(cols)"
   ]
  },
  {
   "cell_type": "markdown",
   "id": "1ff1fb0b",
   "metadata": {},
   "source": [
    "<b>Observation:</b>\n",
    "- R-squared value of .852 is quite good\n",
    "- For next model we will drop 'hum' based oh high VIF value"
   ]
  },
  {
   "cell_type": "markdown",
   "id": "191a3f1a",
   "metadata": {},
   "source": [
    "##### Model 3 : Removing the variable 'hum' "
   ]
  },
  {
   "cell_type": "code",
   "execution_count": 396,
   "id": "74d6bb69",
   "metadata": {},
   "outputs": [],
   "source": [
    "cols=['yr', 'holiday', 'workingday', 'temp', 'windspeed',\n",
    "       'spring', 'summer', 'winter', 'Dec', 'Feb', 'Jan', 'Jul', 'May', 'Nov',\n",
    "       'Sep', 'Light_rain_snow', 'Mist', 'Saturday']"
   ]
  },
  {
   "cell_type": "code",
   "execution_count": 397,
   "id": "a8753604",
   "metadata": {},
   "outputs": [
    {
     "name": "stdout",
     "output_type": "stream",
     "text": [
      "           Features   VIF\n",
      "3              temp  7.47\n",
      "2        workingday  5.36\n",
      "4         windspeed  4.82\n",
      "5            spring  4.57\n",
      "7            winter  3.08\n",
      "6            summer  2.92\n",
      "10              Jan  2.24\n",
      "0                yr  2.09\n",
      "17         Saturday  2.00\n",
      "9               Feb  1.89\n",
      "13              Nov  1.85\n",
      "11              Jul  1.60\n",
      "8               Dec  1.59\n",
      "16             Mist  1.59\n",
      "12              May  1.58\n",
      "14              Sep  1.36\n",
      "1           holiday  1.21\n",
      "15  Light_rain_snow  1.09\n"
     ]
    }
   ],
   "source": [
    "## VIF Check\n",
    "getVif(cols)"
   ]
  },
  {
   "cell_type": "code",
   "execution_count": 398,
   "id": "4f4d2ad2",
   "metadata": {},
   "outputs": [
    {
     "name": "stdout",
     "output_type": "stream",
     "text": [
      "                            OLS Regression Results                            \n",
      "==============================================================================\n",
      "Dep. Variable:                    cnt   R-squared:                       0.847\n",
      "Model:                            OLS   Adj. R-squared:                  0.841\n",
      "Method:                 Least Squares   F-statistic:                     150.5\n",
      "Date:                Wed, 15 Dec 2021   Prob (F-statistic):          1.51e-186\n",
      "Time:                        21:08:04   Log-Likelihood:                 516.82\n",
      "No. Observations:                 510   AIC:                            -995.6\n",
      "Df Residuals:                     491   BIC:                            -915.2\n",
      "Df Model:                          18                                         \n",
      "Covariance Type:            nonrobust                                         \n",
      "===================================================================================\n",
      "                      coef    std err          t      P>|t|      [0.025      0.975]\n",
      "-----------------------------------------------------------------------------------\n",
      "const               0.2216      0.034      6.460      0.000       0.154       0.289\n",
      "yr                  0.2354      0.008     29.275      0.000       0.220       0.251\n",
      "holiday            -0.0471      0.027     -1.722      0.086      -0.101       0.007\n",
      "workingday          0.0472      0.012      4.065      0.000       0.024       0.070\n",
      "temp                0.4149      0.038     11.013      0.000       0.341       0.489\n",
      "windspeed          -0.1600      0.025     -6.424      0.000      -0.209      -0.111\n",
      "spring             -0.0624      0.022     -2.814      0.005      -0.106      -0.019\n",
      "summer              0.0261      0.017      1.524      0.128      -0.008       0.060\n",
      "winter              0.0869      0.018      4.883      0.000       0.052       0.122\n",
      "Dec                -0.0560      0.018     -3.059      0.002      -0.092      -0.020\n",
      "Feb                -0.0369      0.022     -1.699      0.090      -0.080       0.006\n",
      "Jan                -0.0721      0.021     -3.358      0.001      -0.114      -0.030\n",
      "Jul                -0.0461      0.018     -2.537      0.011      -0.082      -0.010\n",
      "May                 0.0141      0.017      0.813      0.417      -0.020       0.048\n",
      "Nov                -0.0466      0.019     -2.446      0.015      -0.084      -0.009\n",
      "Sep                 0.0658      0.017      3.914      0.000       0.033       0.099\n",
      "Light_rain_snow    -0.2983      0.024    -12.323      0.000      -0.346      -0.251\n",
      "Mist               -0.0826      0.009     -9.632      0.000      -0.099      -0.066\n",
      "Saturday            0.0591      0.015      4.045      0.000       0.030       0.088\n",
      "==============================================================================\n",
      "Omnibus:                       85.850   Durbin-Watson:                   2.043\n",
      "Prob(Omnibus):                  0.000   Jarque-Bera (JB):              244.613\n",
      "Skew:                          -0.809   Prob(JB):                     7.64e-54\n",
      "Kurtosis:                       5.982   Cond. No.                         22.5\n",
      "==============================================================================\n",
      "\n",
      "Notes:\n",
      "[1] Standard Errors assume that the covariance matrix of the errors is correctly specified.\n"
     ]
    },
    {
     "data": {
      "text/plain": [
       "<statsmodels.regression.linear_model.RegressionResultsWrapper at 0x10561d8e0>"
      ]
     },
     "execution_count": 398,
     "metadata": {},
     "output_type": "execute_result"
    }
   ],
   "source": [
    "create_model(cols)"
   ]
  },
  {
   "cell_type": "markdown",
   "id": "9e1bf05c",
   "metadata": {},
   "source": [
    "<b>Observation:</b>\n",
    "- We will remove 'temp' based on high VIF values"
   ]
  },
  {
   "cell_type": "markdown",
   "id": "d87c222c",
   "metadata": {},
   "source": [
    "##### Model 4 : Removing the variable 'temp'  "
   ]
  },
  {
   "cell_type": "code",
   "execution_count": 399,
   "id": "e1473693",
   "metadata": {},
   "outputs": [],
   "source": [
    "cols=['yr', 'holiday', 'workingday', 'May', 'windspeed',\n",
    "       'spring', 'summer', 'winter', 'Dec', 'Feb', 'Jan', 'Jul', 'Nov',\n",
    "       'Sep', 'Light_rain_snow', 'Mist', 'Saturday']"
   ]
  },
  {
   "cell_type": "code",
   "execution_count": 400,
   "id": "341f6563",
   "metadata": {},
   "outputs": [
    {
     "name": "stdout",
     "output_type": "stream",
     "text": [
      "           Features   VIF\n",
      "5            spring  4.53\n",
      "4         windspeed  4.35\n",
      "2        workingday  3.85\n",
      "7            winter  3.07\n",
      "6            summer  2.91\n",
      "10              Jan  2.17\n",
      "0                yr  1.92\n",
      "9               Feb  1.86\n",
      "12              Nov  1.82\n",
      "16         Saturday  1.70\n",
      "15             Mist  1.58\n",
      "3               May  1.55\n",
      "8               Dec  1.55\n",
      "11              Jul  1.30\n",
      "13              Sep  1.28\n",
      "1           holiday  1.15\n",
      "14  Light_rain_snow  1.09\n"
     ]
    }
   ],
   "source": [
    "## VIF Check\n",
    "getVif(cols)"
   ]
  },
  {
   "cell_type": "code",
   "execution_count": 401,
   "id": "509544df",
   "metadata": {},
   "outputs": [
    {
     "name": "stdout",
     "output_type": "stream",
     "text": [
      "                            OLS Regression Results                            \n",
      "==============================================================================\n",
      "Dep. Variable:                    cnt   R-squared:                       0.809\n",
      "Model:                            OLS   Adj. R-squared:                  0.802\n",
      "Method:                 Least Squares   F-statistic:                     122.3\n",
      "Date:                Wed, 15 Dec 2021   Prob (F-statistic):          3.21e-164\n",
      "Time:                        21:08:30   Log-Likelihood:                 460.52\n",
      "No. Observations:                 510   AIC:                            -885.0\n",
      "Df Residuals:                     492   BIC:                            -808.8\n",
      "Df Model:                          17                                         \n",
      "Covariance Type:            nonrobust                                         \n",
      "===================================================================================\n",
      "                      coef    std err          t      P>|t|      [0.025      0.975]\n",
      "-----------------------------------------------------------------------------------\n",
      "const               0.5502      0.019     29.144      0.000       0.513       0.587\n",
      "yr                  0.2467      0.009     27.728      0.000       0.229       0.264\n",
      "holiday            -0.0351      0.030     -1.150      0.251      -0.095       0.025\n",
      "workingday          0.0491      0.013      3.791      0.000       0.024       0.074\n",
      "May                 0.0551      0.019      2.906      0.004       0.018       0.092\n",
      "windspeed          -0.1840      0.028     -6.648      0.000      -0.238      -0.130\n",
      "spring             -0.2043      0.020    -10.162      0.000      -0.244      -0.165\n",
      "summer             -0.0687      0.017     -4.152      0.000      -0.101      -0.036\n",
      "winter             -0.0130      0.017     -0.759      0.448      -0.047       0.021\n",
      "Dec                -0.1297      0.019     -6.820      0.000      -0.167      -0.092\n",
      "Feb                -0.0989      0.023     -4.227      0.000      -0.145      -0.053\n",
      "Jan                -0.1665      0.022     -7.578      0.000      -0.210      -0.123\n",
      "Jul                -0.0164      0.020     -0.817      0.414      -0.056       0.023\n",
      "Nov                -0.1084      0.020     -5.336      0.000      -0.148      -0.068\n",
      "Sep                 0.0500      0.019      2.674      0.008       0.013       0.087\n",
      "Light_rain_snow    -0.3165      0.027    -11.748      0.000      -0.369      -0.264\n",
      "Mist               -0.0898      0.010     -9.419      0.000      -0.109      -0.071\n",
      "Saturday            0.0588      0.016      3.610      0.000       0.027       0.091\n",
      "==============================================================================\n",
      "Omnibus:                       79.017   Durbin-Watson:                   1.980\n",
      "Prob(Omnibus):                  0.000   Jarque-Bera (JB):              219.219\n",
      "Skew:                          -0.754   Prob(JB):                     2.50e-48\n",
      "Kurtosis:                       5.836   Cond. No.                         11.9\n",
      "==============================================================================\n",
      "\n",
      "Notes:\n",
      "[1] Standard Errors assume that the covariance matrix of the errors is correctly specified.\n"
     ]
    },
    {
     "data": {
      "text/plain": [
       "<statsmodels.regression.linear_model.RegressionResultsWrapper at 0x129793400>"
      ]
     },
     "execution_count": 401,
     "metadata": {},
     "output_type": "execute_result"
    }
   ],
   "source": [
    "create_model(cols)"
   ]
  },
  {
   "cell_type": "markdown",
   "id": "d3decf8c",
   "metadata": {},
   "source": [
    "<b>Observation:</b>\n",
    "- The variable 'holiday' has high p-vale of 0.251. <br>\n",
    "- The variable 'winter' has high p-vale of  0.448 .\n",
    "- The variable 'Jul' has high p-vale of 0.414.\n",
    "- We will remove 'holiday' as it has high negative coeffiencient along with high p-value"
   ]
  },
  {
   "cell_type": "markdown",
   "id": "581c0b5b",
   "metadata": {},
   "source": [
    "##### Model 5 : Removing the variable 'holiday'  "
   ]
  },
  {
   "cell_type": "code",
   "execution_count": 402,
   "id": "6aa4467d",
   "metadata": {},
   "outputs": [],
   "source": [
    "cols=['yr', 'workingday', 'May', 'windspeed',\n",
    "       'spring', 'summer', 'winter', 'Dec', 'Feb', 'Jan', 'Jul', 'Nov',\n",
    "       'Sep', 'Light_rain_snow', 'Mist', 'Saturday']"
   ]
  },
  {
   "cell_type": "code",
   "execution_count": 403,
   "id": "d87f9aea",
   "metadata": {},
   "outputs": [
    {
     "name": "stdout",
     "output_type": "stream",
     "text": [
      "           Features   VIF\n",
      "4            spring  4.50\n",
      "3         windspeed  4.30\n",
      "1        workingday  3.56\n",
      "6            winter  3.05\n",
      "5            summer  2.88\n",
      "9               Jan  2.17\n",
      "0                yr  1.91\n",
      "8               Feb  1.86\n",
      "11              Nov  1.79\n",
      "15         Saturday  1.63\n",
      "14             Mist  1.58\n",
      "2               May  1.55\n",
      "7               Dec  1.55\n",
      "10              Jul  1.29\n",
      "12              Sep  1.25\n",
      "13  Light_rain_snow  1.09\n"
     ]
    }
   ],
   "source": [
    "## VIF Check\n",
    "getVif(cols)"
   ]
  },
  {
   "cell_type": "code",
   "execution_count": 404,
   "id": "827128f6",
   "metadata": {},
   "outputs": [
    {
     "name": "stdout",
     "output_type": "stream",
     "text": [
      "                            OLS Regression Results                            \n",
      "==============================================================================\n",
      "Dep. Variable:                    cnt   R-squared:                       0.808\n",
      "Model:                            OLS   Adj. R-squared:                  0.802\n",
      "Method:                 Least Squares   F-statistic:                     129.7\n",
      "Date:                Wed, 15 Dec 2021   Prob (F-statistic):          5.35e-165\n",
      "Time:                        21:09:30   Log-Likelihood:                 459.84\n",
      "No. Observations:                 510   AIC:                            -885.7\n",
      "Df Residuals:                     493   BIC:                            -813.7\n",
      "Df Model:                          16                                         \n",
      "Covariance Type:            nonrobust                                         \n",
      "===================================================================================\n",
      "                      coef    std err          t      P>|t|      [0.025      0.975]\n",
      "-----------------------------------------------------------------------------------\n",
      "const               0.5454      0.018     29.608      0.000       0.509       0.582\n",
      "yr                  0.2468      0.009     27.732      0.000       0.229       0.264\n",
      "workingday          0.0542      0.012      4.460      0.000       0.030       0.078\n",
      "May                 0.0555      0.019      2.924      0.004       0.018       0.093\n",
      "windspeed          -0.1844      0.028     -6.658      0.000      -0.239      -0.130\n",
      "spring             -0.2045      0.020    -10.166      0.000      -0.244      -0.165\n",
      "summer             -0.0687      0.017     -4.155      0.000      -0.101      -0.036\n",
      "winter             -0.0125      0.017     -0.731      0.465      -0.046       0.021\n",
      "Dec                -0.1304      0.019     -6.857      0.000      -0.168      -0.093\n",
      "Feb                -0.1000      0.023     -4.275      0.000      -0.146      -0.054\n",
      "Jan                -0.1674      0.022     -7.623      0.000      -0.211      -0.124\n",
      "Jul                -0.0159      0.020     -0.790      0.430      -0.055       0.024\n",
      "Nov                -0.1112      0.020     -5.510      0.000      -0.151      -0.072\n",
      "Sep                 0.0485      0.019      2.598      0.010       0.012       0.085\n",
      "Light_rain_snow    -0.3160      0.027    -11.727      0.000      -0.369      -0.263\n",
      "Mist               -0.0895      0.010     -9.389      0.000      -0.108      -0.071\n",
      "Saturday            0.0640      0.016      4.082      0.000       0.033       0.095\n",
      "==============================================================================\n",
      "Omnibus:                       82.884   Durbin-Watson:                   1.974\n",
      "Prob(Omnibus):                  0.000   Jarque-Bera (JB):              236.234\n",
      "Skew:                          -0.781   Prob(JB):                     5.04e-52\n",
      "Kurtosis:                       5.945   Cond. No.                         11.7\n",
      "==============================================================================\n",
      "\n",
      "Notes:\n",
      "[1] Standard Errors assume that the covariance matrix of the errors is correctly specified.\n"
     ]
    },
    {
     "data": {
      "text/plain": [
       "<statsmodels.regression.linear_model.RegressionResultsWrapper at 0x127b2a070>"
      ]
     },
     "execution_count": 404,
     "metadata": {},
     "output_type": "execute_result"
    }
   ],
   "source": [
    "create_model(cols)"
   ]
  },
  {
   "cell_type": "markdown",
   "id": "c40800eb",
   "metadata": {},
   "source": [
    "<b>Observation:</b>\n",
    "- The variable 'winter' has high p-vale of  0.465 .\n",
    "- The variable 'Jul' has high p-vale of 0.430.\n",
    "- we will remove 'Jul' as it has high negative coeffiencient along with high p-value"
   ]
  },
  {
   "cell_type": "markdown",
   "id": "b67bc977",
   "metadata": {},
   "source": [
    "##### Model 6 : Removing the variable 'Jul'  "
   ]
  },
  {
   "cell_type": "code",
   "execution_count": 405,
   "id": "b733b93d",
   "metadata": {},
   "outputs": [],
   "source": [
    "cols=['yr', 'workingday', 'May', 'windspeed',\n",
    "       'spring', 'summer', 'winter', 'Dec', 'Feb', 'Jan', 'Nov',\n",
    "       'Sep', 'Light_rain_snow', 'Mist', 'Saturday']"
   ]
  },
  {
   "cell_type": "code",
   "execution_count": 406,
   "id": "37157c85",
   "metadata": {},
   "outputs": [
    {
     "name": "stdout",
     "output_type": "stream",
     "text": [
      "           Features   VIF\n",
      "4            spring  4.23\n",
      "3         windspeed  4.12\n",
      "1        workingday  3.32\n",
      "6            winter  2.88\n",
      "5            summer  2.60\n",
      "9               Jan  2.17\n",
      "0                yr  1.88\n",
      "8               Feb  1.86\n",
      "10              Nov  1.79\n",
      "13             Mist  1.58\n",
      "14         Saturday  1.57\n",
      "2               May  1.55\n",
      "7               Dec  1.55\n",
      "11              Sep  1.20\n",
      "12  Light_rain_snow  1.09\n"
     ]
    }
   ],
   "source": [
    "## VIF Check\n",
    "getVif(cols)"
   ]
  },
  {
   "cell_type": "code",
   "execution_count": 407,
   "id": "9f2b9c41",
   "metadata": {},
   "outputs": [
    {
     "name": "stdout",
     "output_type": "stream",
     "text": [
      "                            OLS Regression Results                            \n",
      "==============================================================================\n",
      "Dep. Variable:                    cnt   R-squared:                       0.808\n",
      "Model:                            OLS   Adj. R-squared:                  0.802\n",
      "Method:                 Least Squares   F-statistic:                     138.5\n",
      "Date:                Wed, 15 Dec 2021   Prob (F-statistic):          6.09e-166\n",
      "Time:                        21:10:15   Log-Likelihood:                 459.51\n",
      "No. Observations:                 510   AIC:                            -887.0\n",
      "Df Residuals:                     494   BIC:                            -819.3\n",
      "Df Model:                          15                                         \n",
      "Covariance Type:            nonrobust                                         \n",
      "===================================================================================\n",
      "                      coef    std err          t      P>|t|      [0.025      0.975]\n",
      "-----------------------------------------------------------------------------------\n",
      "const               0.5392      0.017     32.313      0.000       0.506       0.572\n",
      "yr                  0.2469      0.009     27.750      0.000       0.229       0.264\n",
      "workingday          0.0545      0.012      4.489      0.000       0.031       0.078\n",
      "May                 0.0554      0.019      2.922      0.004       0.018       0.093\n",
      "windspeed          -0.1842      0.028     -6.656      0.000      -0.239      -0.130\n",
      "spring             -0.1989      0.019    -10.558      0.000      -0.236      -0.162\n",
      "summer             -0.0631      0.015     -4.232      0.000      -0.092      -0.034\n",
      "winter             -0.0075      0.016     -0.473      0.636      -0.039       0.024\n",
      "Dec                -0.1298      0.019     -6.836      0.000      -0.167      -0.093\n",
      "Feb                -0.0998      0.023     -4.271      0.000      -0.146      -0.054\n",
      "Jan                -0.1673      0.022     -7.622      0.000      -0.210      -0.124\n",
      "Nov                -0.1105      0.020     -5.482      0.000      -0.150      -0.071\n",
      "Sep                 0.0530      0.018      2.989      0.003       0.018       0.088\n",
      "Light_rain_snow    -0.3162      0.027    -11.736      0.000      -0.369      -0.263\n",
      "Mist               -0.0890      0.010     -9.361      0.000      -0.108      -0.070\n",
      "Saturday            0.0641      0.016      4.092      0.000       0.033       0.095\n",
      "==============================================================================\n",
      "Omnibus:                       83.005   Durbin-Watson:                   1.982\n",
      "Prob(Omnibus):                  0.000   Jarque-Bera (JB):              234.308\n",
      "Skew:                          -0.786   Prob(JB):                     1.32e-51\n",
      "Kurtosis:                       5.925   Cond. No.                         11.4\n",
      "==============================================================================\n",
      "\n",
      "Notes:\n",
      "[1] Standard Errors assume that the covariance matrix of the errors is correctly specified.\n"
     ]
    },
    {
     "data": {
      "text/plain": [
       "<statsmodels.regression.linear_model.RegressionResultsWrapper at 0x128cc1a60>"
      ]
     },
     "execution_count": 407,
     "metadata": {},
     "output_type": "execute_result"
    }
   ],
   "source": [
    "create_model(cols)"
   ]
  },
  {
   "cell_type": "markdown",
   "id": "1252a016",
   "metadata": {},
   "source": [
    "<b>Observation:</b>\n",
    "- The variable 'winter' has high p-vale of  0.636 <br>\n",
    "- we will remove 'winter'"
   ]
  },
  {
   "cell_type": "markdown",
   "id": "73d2ddf0",
   "metadata": {},
   "source": [
    "##### Model 7 : Removing the variable 'winter'  "
   ]
  },
  {
   "cell_type": "code",
   "execution_count": 408,
   "id": "a2747ca7",
   "metadata": {},
   "outputs": [],
   "source": [
    "cols=['yr', 'workingday', 'May', 'windspeed',\n",
    "       'spring', 'summer', 'Dec', 'Feb', 'Jan', 'Nov',\n",
    "       'Sep', 'Light_rain_snow', 'Mist', 'Saturday']"
   ]
  },
  {
   "cell_type": "code",
   "execution_count": 409,
   "id": "987e3e92",
   "metadata": {},
   "outputs": [
    {
     "name": "stdout",
     "output_type": "stream",
     "text": [
      "           Features   VIF\n",
      "3         windspeed  3.96\n",
      "4            spring  3.66\n",
      "1        workingday  3.22\n",
      "5            summer  2.37\n",
      "8               Jan  2.13\n",
      "0                yr  1.87\n",
      "7               Feb  1.84\n",
      "2               May  1.55\n",
      "12             Mist  1.55\n",
      "13         Saturday  1.54\n",
      "9               Nov  1.22\n",
      "6               Dec  1.21\n",
      "10              Sep  1.20\n",
      "11  Light_rain_snow  1.07\n"
     ]
    }
   ],
   "source": [
    "## VIF Check\n",
    "getVif(cols)"
   ]
  },
  {
   "cell_type": "code",
   "execution_count": 410,
   "id": "5a1cbaad",
   "metadata": {},
   "outputs": [
    {
     "name": "stdout",
     "output_type": "stream",
     "text": [
      "                            OLS Regression Results                            \n",
      "==============================================================================\n",
      "Dep. Variable:                    cnt   R-squared:                       0.808\n",
      "Model:                            OLS   Adj. R-squared:                  0.802\n",
      "Method:                 Least Squares   F-statistic:                     148.6\n",
      "Date:                Wed, 15 Dec 2021   Prob (F-statistic):          5.48e-167\n",
      "Time:                        21:10:44   Log-Likelihood:                 459.40\n",
      "No. Observations:                 510   AIC:                            -888.8\n",
      "Df Residuals:                     495   BIC:                            -825.3\n",
      "Df Model:                          14                                         \n",
      "Covariance Type:            nonrobust                                         \n",
      "===================================================================================\n",
      "                      coef    std err          t      P>|t|      [0.025      0.975]\n",
      "-----------------------------------------------------------------------------------\n",
      "const               0.5368      0.016     33.839      0.000       0.506       0.568\n",
      "yr                  0.2469      0.009     27.779      0.000       0.229       0.264\n",
      "workingday          0.0548      0.012      4.523      0.000       0.031       0.079\n",
      "May                 0.0554      0.019      2.923      0.004       0.018       0.093\n",
      "windspeed          -0.1846      0.028     -6.679      0.000      -0.239      -0.130\n",
      "spring             -0.1953      0.017    -11.346      0.000      -0.229      -0.161\n",
      "summer             -0.0606      0.014     -4.350      0.000      -0.088      -0.033\n",
      "Dec                -0.1337      0.017     -7.790      0.000      -0.167      -0.100\n",
      "Feb                -0.1009      0.023     -4.340      0.000      -0.147      -0.055\n",
      "Jan                -0.1684      0.022     -7.724      0.000      -0.211      -0.126\n",
      "Nov                -0.1154      0.017     -6.720      0.000      -0.149      -0.082\n",
      "Sep                 0.0539      0.018      3.057      0.002       0.019       0.088\n",
      "Light_rain_snow    -0.3178      0.027    -11.901      0.000      -0.370      -0.265\n",
      "Mist               -0.0894      0.009     -9.444      0.000      -0.108      -0.071\n",
      "Saturday            0.0643      0.016      4.105      0.000       0.034       0.095\n",
      "==============================================================================\n",
      "Omnibus:                       85.177   Durbin-Watson:                   1.978\n",
      "Prob(Omnibus):                  0.000   Jarque-Bera (JB):              245.067\n",
      "Skew:                          -0.800   Prob(JB):                     6.09e-54\n",
      "Kurtosis:                       5.996   Cond. No.                         10.8\n",
      "==============================================================================\n",
      "\n",
      "Notes:\n",
      "[1] Standard Errors assume that the covariance matrix of the errors is correctly specified.\n"
     ]
    },
    {
     "data": {
      "text/plain": [
       "<statsmodels.regression.linear_model.RegressionResultsWrapper at 0x11fa08f10>"
      ]
     },
     "execution_count": 410,
     "metadata": {},
     "output_type": "execute_result"
    }
   ],
   "source": [
    "create_model(cols)"
   ]
  },
  {
   "cell_type": "markdown",
   "id": "d23934f1",
   "metadata": {},
   "source": [
    "##### Model 8 : Removing the variable  'Jan' and 'Feb'"
   ]
  },
  {
   "cell_type": "code",
   "execution_count": 411,
   "id": "37080a9c",
   "metadata": {},
   "outputs": [],
   "source": [
    "cols=['yr', 'workingday', 'May', 'windspeed',\n",
    "       'spring', 'summer', 'Dec', 'Nov',\n",
    "       'Sep', 'Light_rain_snow', 'Mist', 'Saturday']"
   ]
  },
  {
   "cell_type": "code",
   "execution_count": 412,
   "id": "6736edce",
   "metadata": {},
   "outputs": [
    {
     "name": "stdout",
     "output_type": "stream",
     "text": [
      "           Features   VIF\n",
      "3         windspeed  3.92\n",
      "1        workingday  3.21\n",
      "5            summer  2.37\n",
      "0                yr  1.87\n",
      "4            spring  1.74\n",
      "2               May  1.55\n",
      "10             Mist  1.54\n",
      "11         Saturday  1.54\n",
      "7               Nov  1.22\n",
      "8               Sep  1.20\n",
      "6               Dec  1.14\n",
      "9   Light_rain_snow  1.07\n"
     ]
    }
   ],
   "source": [
    "## VIF Check\n",
    "getVif(cols)"
   ]
  },
  {
   "cell_type": "code",
   "execution_count": 413,
   "id": "4ea17cdc",
   "metadata": {},
   "outputs": [
    {
     "name": "stdout",
     "output_type": "stream",
     "text": [
      "                            OLS Regression Results                            \n",
      "==============================================================================\n",
      "Dep. Variable:                    cnt   R-squared:                       0.784\n",
      "Model:                            OLS   Adj. R-squared:                  0.779\n",
      "Method:                 Least Squares   F-statistic:                     150.7\n",
      "Date:                Wed, 15 Dec 2021   Prob (F-statistic):          6.28e-157\n",
      "Time:                        21:11:00   Log-Likelihood:                 430.18\n",
      "No. Observations:                 510   AIC:                            -834.4\n",
      "Df Residuals:                     497   BIC:                            -779.3\n",
      "Df Model:                          12                                         \n",
      "Covariance Type:            nonrobust                                         \n",
      "===================================================================================\n",
      "                      coef    std err          t      P>|t|      [0.025      0.975]\n",
      "-----------------------------------------------------------------------------------\n",
      "const               0.5252      0.017     31.472      0.000       0.492       0.558\n",
      "yr                  0.2470      0.009     26.296      0.000       0.229       0.265\n",
      "workingday          0.0567      0.013      4.429      0.000       0.032       0.082\n",
      "May                 0.0578      0.020      2.889      0.004       0.018       0.097\n",
      "windspeed          -0.1628      0.029     -5.613      0.000      -0.220      -0.106\n",
      "spring             -0.2838      0.013    -22.127      0.000      -0.309      -0.259\n",
      "summer             -0.0571      0.015     -3.887      0.000      -0.086      -0.028\n",
      "Dec                -0.1012      0.018     -5.782      0.000      -0.136      -0.067\n",
      "Nov                -0.1108      0.018     -6.107      0.000      -0.146      -0.075\n",
      "Sep                 0.0605      0.019      3.253      0.001       0.024       0.097\n",
      "Light_rain_snow    -0.3159      0.028    -11.195      0.000      -0.371      -0.260\n",
      "Mist               -0.0948      0.010     -9.505      0.000      -0.114      -0.075\n",
      "Saturday            0.0661      0.017      4.003      0.000       0.034       0.099\n",
      "==============================================================================\n",
      "Omnibus:                       55.608   Durbin-Watson:                   1.961\n",
      "Prob(Omnibus):                  0.000   Jarque-Bera (JB):              168.987\n",
      "Skew:                          -0.496   Prob(JB):                     2.02e-37\n",
      "Kurtosis:                       5.640   Cond. No.                         10.0\n",
      "==============================================================================\n",
      "\n",
      "Notes:\n",
      "[1] Standard Errors assume that the covariance matrix of the errors is correctly specified.\n"
     ]
    },
    {
     "data": {
      "text/plain": [
       "<statsmodels.regression.linear_model.RegressionResultsWrapper at 0x11fa08f70>"
      ]
     },
     "execution_count": 413,
     "metadata": {},
     "output_type": "execute_result"
    }
   ],
   "source": [
    "create_model(cols)"
   ]
  },
  {
   "cell_type": "markdown",
   "id": "07804316",
   "metadata": {},
   "source": [
    "##### Model 9 : Adding the variable  'temp'"
   ]
  },
  {
   "cell_type": "code",
   "execution_count": 414,
   "id": "a9eb2969",
   "metadata": {},
   "outputs": [],
   "source": [
    "cols=['yr', 'temp','workingday', 'May', 'windspeed',\n",
    "       'spring', 'summer', 'Dec', 'Nov',\n",
    "       'Sep', 'Light_rain_snow', 'Mist', 'Saturday']"
   ]
  },
  {
   "cell_type": "code",
   "execution_count": 415,
   "id": "2d450759",
   "metadata": {},
   "outputs": [
    {
     "name": "stdout",
     "output_type": "stream",
     "text": [
      "           Features   VIF\n",
      "1              temp  5.64\n",
      "4         windspeed  4.60\n",
      "2        workingday  4.57\n",
      "6            summer  2.37\n",
      "0                yr  2.06\n",
      "5            spring  2.01\n",
      "12         Saturday  1.81\n",
      "3               May  1.58\n",
      "11             Mist  1.54\n",
      "8               Nov  1.24\n",
      "9               Sep  1.24\n",
      "7               Dec  1.15\n",
      "10  Light_rain_snow  1.08\n"
     ]
    }
   ],
   "source": [
    "## VIF Check\n",
    "getVif(cols)"
   ]
  },
  {
   "cell_type": "code",
   "execution_count": 416,
   "id": "3626a04d",
   "metadata": {},
   "outputs": [
    {
     "name": "stdout",
     "output_type": "stream",
     "text": [
      "                            OLS Regression Results                            \n",
      "==============================================================================\n",
      "Dep. Variable:                    cnt   R-squared:                       0.828\n",
      "Model:                            OLS   Adj. R-squared:                  0.823\n",
      "Method:                 Least Squares   F-statistic:                     183.1\n",
      "Date:                Wed, 15 Dec 2021   Prob (F-statistic):          9.75e-180\n",
      "Time:                        21:11:16   Log-Likelihood:                 487.09\n",
      "No. Observations:                 510   AIC:                            -946.2\n",
      "Df Residuals:                     496   BIC:                            -886.9\n",
      "Df Model:                          13                                         \n",
      "Covariance Type:            nonrobust                                         \n",
      "===================================================================================\n",
      "                      coef    std err          t      P>|t|      [0.025      0.975]\n",
      "-----------------------------------------------------------------------------------\n",
      "const               0.2869      0.026     10.990      0.000       0.236       0.338\n",
      "yr                  0.2375      0.008     28.090      0.000       0.221       0.254\n",
      "temp                0.3313      0.030     11.136      0.000       0.273       0.390\n",
      "workingday          0.0524      0.011      4.571      0.000       0.030       0.075\n",
      "May                 0.0242      0.018      1.333      0.183      -0.011       0.060\n",
      "windspeed          -0.1496      0.026     -5.756      0.000      -0.201      -0.099\n",
      "spring             -0.1554      0.016     -9.556      0.000      -0.187      -0.123\n",
      "summer             -0.0041      0.014     -0.293      0.769      -0.032       0.023\n",
      "Dec                -0.0150      0.017     -0.860      0.390      -0.049       0.019\n",
      "Nov                -0.0059      0.019     -0.315      0.753      -0.043       0.031\n",
      "Sep                 0.0658      0.017      3.950      0.000       0.033       0.099\n",
      "Light_rain_snow    -0.2834      0.025    -11.147      0.000      -0.333      -0.233\n",
      "Mist               -0.0809      0.009     -8.973      0.000      -0.099      -0.063\n",
      "Saturday            0.0650      0.015      4.394      0.000       0.036       0.094\n",
      "==============================================================================\n",
      "Omnibus:                       62.716   Durbin-Watson:                   2.073\n",
      "Prob(Omnibus):                  0.000   Jarque-Bera (JB):              154.237\n",
      "Skew:                          -0.637   Prob(JB):                     3.22e-34\n",
      "Kurtosis:                       5.374   Cond. No.                         16.4\n",
      "==============================================================================\n",
      "\n",
      "Notes:\n",
      "[1] Standard Errors assume that the covariance matrix of the errors is correctly specified.\n"
     ]
    },
    {
     "data": {
      "text/plain": [
       "<statsmodels.regression.linear_model.RegressionResultsWrapper at 0x11f80a460>"
      ]
     },
     "execution_count": 416,
     "metadata": {},
     "output_type": "execute_result"
    }
   ],
   "source": [
    "create_model(cols)"
   ]
  },
  {
   "cell_type": "markdown",
   "id": "7b8c0537",
   "metadata": {},
   "source": [
    "<b>Observation:</b>\n",
    "   - The variable 'Nov' has high p-vale of  0.753 <br>\n",
    "   - The variable 'Dec' has high p-vale of  0.390<br>\n",
    "   - The variable 'May' has high p-vale of  0.183\n",
    "   - We will remove 'May','Nov' and 'Dec'"
   ]
  },
  {
   "cell_type": "markdown",
   "id": "d7a66b96",
   "metadata": {},
   "source": [
    "##### Model 10 : Removing the variable  'Nov,'Dec' and 'May'"
   ]
  },
  {
   "cell_type": "code",
   "execution_count": 417,
   "id": "cd280ffd",
   "metadata": {},
   "outputs": [],
   "source": [
    "cols=['yr', 'temp','workingday', 'windspeed',\n",
    "       'spring', 'summer',\n",
    "       'Sep', 'Light_rain_snow', 'Mist', 'Saturday']"
   ]
  },
  {
   "cell_type": "code",
   "execution_count": 418,
   "id": "ea3698f7",
   "metadata": {},
   "outputs": [
    {
     "name": "stdout",
     "output_type": "stream",
     "text": [
      "          Features   VIF\n",
      "1             temp  5.38\n",
      "2       workingday  4.30\n",
      "3        windspeed  4.18\n",
      "0               yr  2.03\n",
      "4           spring  1.82\n",
      "9         Saturday  1.74\n",
      "5           summer  1.61\n",
      "8             Mist  1.52\n",
      "6              Sep  1.21\n",
      "7  Light_rain_snow  1.07\n"
     ]
    }
   ],
   "source": [
    "## VIF Check\n",
    "getVif(cols)"
   ]
  },
  {
   "cell_type": "code",
   "execution_count": 419,
   "id": "434e4bdd",
   "metadata": {},
   "outputs": [
    {
     "name": "stdout",
     "output_type": "stream",
     "text": [
      "                            OLS Regression Results                            \n",
      "==============================================================================\n",
      "Dep. Variable:                    cnt   R-squared:                       0.827\n",
      "Model:                            OLS   Adj. R-squared:                  0.823\n",
      "Method:                 Least Squares   F-statistic:                     238.1\n",
      "Date:                Wed, 15 Dec 2021   Prob (F-statistic):          9.27e-183\n",
      "Time:                        21:11:57   Log-Likelihood:                 485.87\n",
      "No. Observations:                 510   AIC:                            -949.7\n",
      "Df Residuals:                     499   BIC:                            -903.2\n",
      "Df Model:                          10                                         \n",
      "Covariance Type:            nonrobust                                         \n",
      "===================================================================================\n",
      "                      coef    std err          t      P>|t|      [0.025      0.975]\n",
      "-----------------------------------------------------------------------------------\n",
      "const               0.2747      0.021     13.337      0.000       0.234       0.315\n",
      "yr                  0.2368      0.008     28.082      0.000       0.220       0.253\n",
      "temp                0.3470      0.024     14.427      0.000       0.300       0.394\n",
      "workingday          0.0523      0.011      4.573      0.000       0.030       0.075\n",
      "windspeed          -0.1518      0.026     -5.889      0.000      -0.202      -0.101\n",
      "spring             -0.1486      0.013    -11.237      0.000      -0.175      -0.123\n",
      "summer              0.0080      0.011      0.738      0.461      -0.013       0.029\n",
      "Sep                 0.0676      0.016      4.164      0.000       0.036       0.099\n",
      "Light_rain_snow    -0.2822      0.025    -11.135      0.000      -0.332      -0.232\n",
      "Mist               -0.0798      0.009     -8.893      0.000      -0.097      -0.062\n",
      "Saturday            0.0640      0.015      4.341      0.000       0.035       0.093\n",
      "==============================================================================\n",
      "Omnibus:                       58.785   Durbin-Watson:                   2.084\n",
      "Prob(Omnibus):                  0.000   Jarque-Bera (JB):              135.158\n",
      "Skew:                          -0.620   Prob(JB):                     4.48e-30\n",
      "Kurtosis:                       5.196   Cond. No.                         12.0\n",
      "==============================================================================\n",
      "\n",
      "Notes:\n",
      "[1] Standard Errors assume that the covariance matrix of the errors is correctly specified.\n"
     ]
    },
    {
     "data": {
      "text/plain": [
       "<statsmodels.regression.linear_model.RegressionResultsWrapper at 0x1283128b0>"
      ]
     },
     "execution_count": 419,
     "metadata": {},
     "output_type": "execute_result"
    }
   ],
   "source": [
    "create_model(cols)"
   ]
  },
  {
   "cell_type": "markdown",
   "id": "3ae5500c",
   "metadata": {},
   "source": [
    "<b>Observation:</b>\n",
    "- 'summer' has high p-value of .461. So we will remove summer"
   ]
  },
  {
   "cell_type": "markdown",
   "id": "30466c12",
   "metadata": {},
   "source": [
    "##### Model 11 : Removing the variable  'summer"
   ]
  },
  {
   "cell_type": "code",
   "execution_count": 420,
   "id": "e1b59755",
   "metadata": {},
   "outputs": [],
   "source": [
    "cols=['yr', 'temp','workingday', 'windspeed',\n",
    "       'spring',\n",
    "       'Sep', 'Light_rain_snow', 'Mist', 'Saturday']"
   ]
  },
  {
   "cell_type": "code",
   "execution_count": 421,
   "id": "60350707",
   "metadata": {},
   "outputs": [
    {
     "name": "stdout",
     "output_type": "stream",
     "text": [
      "          Features   VIF\n",
      "1             temp  5.35\n",
      "2       workingday  4.25\n",
      "3        windspeed  3.92\n",
      "0               yr  2.03\n",
      "8         Saturday  1.73\n",
      "4           spring  1.63\n",
      "7             Mist  1.51\n",
      "5              Sep  1.15\n",
      "6  Light_rain_snow  1.07\n"
     ]
    }
   ],
   "source": [
    "## VIF Check\n",
    "getVif(cols)"
   ]
  },
  {
   "cell_type": "code",
   "execution_count": 422,
   "id": "13a874f5",
   "metadata": {},
   "outputs": [
    {
     "name": "stdout",
     "output_type": "stream",
     "text": [
      "                            OLS Regression Results                            \n",
      "==============================================================================\n",
      "Dep. Variable:                    cnt   R-squared:                       0.827\n",
      "Model:                            OLS   Adj. R-squared:                  0.823\n",
      "Method:                 Least Squares   F-statistic:                     264.7\n",
      "Date:                Wed, 15 Dec 2021   Prob (F-statistic):          7.26e-184\n",
      "Time:                        21:12:52   Log-Likelihood:                 485.59\n",
      "No. Observations:                 510   AIC:                            -951.2\n",
      "Df Residuals:                     500   BIC:                            -908.8\n",
      "Df Model:                           9                                         \n",
      "Covariance Type:            nonrobust                                         \n",
      "===================================================================================\n",
      "                      coef    std err          t      P>|t|      [0.025      0.975]\n",
      "-----------------------------------------------------------------------------------\n",
      "const               0.2768      0.020     13.579      0.000       0.237       0.317\n",
      "yr                  0.2368      0.008     28.100      0.000       0.220       0.253\n",
      "temp                0.3461      0.024     14.414      0.000       0.299       0.393\n",
      "workingday          0.0527      0.011      4.613      0.000       0.030       0.075\n",
      "windspeed          -0.1485      0.025     -5.851      0.000      -0.198      -0.099\n",
      "spring             -0.1520      0.012    -12.280      0.000      -0.176      -0.128\n",
      "Sep                 0.0650      0.016      4.104      0.000       0.034       0.096\n",
      "Light_rain_snow    -0.2836      0.025    -11.228      0.000      -0.333      -0.234\n",
      "Mist               -0.0795      0.009     -8.872      0.000      -0.097      -0.062\n",
      "Saturday            0.0641      0.015      4.352      0.000       0.035       0.093\n",
      "==============================================================================\n",
      "Omnibus:                       59.999   Durbin-Watson:                   2.077\n",
      "Prob(Omnibus):                  0.000   Jarque-Bera (JB):              140.493\n",
      "Skew:                          -0.627   Prob(JB):                     3.11e-31\n",
      "Kurtosis:                       5.245   Cond. No.                         11.8\n",
      "==============================================================================\n",
      "\n",
      "Notes:\n",
      "[1] Standard Errors assume that the covariance matrix of the errors is correctly specified.\n"
     ]
    },
    {
     "data": {
      "text/plain": [
       "<statsmodels.regression.linear_model.RegressionResultsWrapper at 0x1282cacd0>"
      ]
     },
     "execution_count": 422,
     "metadata": {},
     "output_type": "execute_result"
    }
   ],
   "source": [
    "create_model(cols)"
   ]
  },
  {
   "cell_type": "markdown",
   "id": "78c9a2b1",
   "metadata": {},
   "source": [
    "<b>Observation</b>\n",
    "- 'temp' which is a very important variable still have high VIF. Lets try to remove 'spring' and add'summer' and 'winter' back"
   ]
  },
  {
   "cell_type": "markdown",
   "id": "8b58e1a4",
   "metadata": {},
   "source": [
    "##### Model 12 : Removing the variable  'spring' and adding 'summer' and 'winter'"
   ]
  },
  {
   "cell_type": "code",
   "execution_count": 442,
   "id": "de546aca",
   "metadata": {},
   "outputs": [],
   "source": [
    "cols=['yr', 'temp','workingday', 'windspeed',\n",
    "       'summer','winter',\n",
    "       'Sep', 'Light_rain_snow', 'Mist', 'Saturday']\n",
    "X_train_sm12=X_train[cols]\n",
    "X_train_lm12 = sm.add_constant(X_train_sm12)"
   ]
  },
  {
   "cell_type": "code",
   "execution_count": 443,
   "id": "03442fb0",
   "metadata": {},
   "outputs": [
    {
     "name": "stdout",
     "output_type": "stream",
     "text": [
      "          Features   VIF\n",
      "1             temp  4.76\n",
      "2       workingday  4.04\n",
      "3        windspeed  3.44\n",
      "0               yr  2.02\n",
      "9         Saturday  1.69\n",
      "4           summer  1.57\n",
      "8             Mist  1.53\n",
      "5           winter  1.40\n",
      "6              Sep  1.20\n",
      "7  Light_rain_snow  1.08\n"
     ]
    }
   ],
   "source": [
    "## VIF Check\n",
    "getVif(cols)"
   ]
  },
  {
   "cell_type": "code",
   "execution_count": 444,
   "id": "2316e8d0",
   "metadata": {},
   "outputs": [
    {
     "name": "stdout",
     "output_type": "stream",
     "text": [
      "                            OLS Regression Results                            \n",
      "==============================================================================\n",
      "Dep. Variable:                    cnt   R-squared:                       0.835\n",
      "Model:                            OLS   Adj. R-squared:                  0.832\n",
      "Method:                 Least Squares   F-statistic:                     253.0\n",
      "Date:                Wed, 15 Dec 2021   Prob (F-statistic):          3.13e-188\n",
      "Time:                        21:25:01   Log-Likelihood:                 498.79\n",
      "No. Observations:                 510   AIC:                            -975.6\n",
      "Df Residuals:                     499   BIC:                            -929.0\n",
      "Df Model:                          10                                         \n",
      "Covariance Type:            nonrobust                                         \n",
      "===================================================================================\n",
      "                      coef    std err          t      P>|t|      [0.025      0.975]\n",
      "-----------------------------------------------------------------------------------\n",
      "const               0.0750      0.019      4.031      0.000       0.038       0.112\n",
      "yr                  0.2331      0.008     28.370      0.000       0.217       0.249\n",
      "temp                0.5499      0.020     27.861      0.000       0.511       0.589\n",
      "workingday          0.0561      0.011      5.024      0.000       0.034       0.078\n",
      "windspeed          -0.1552      0.025     -6.195      0.000      -0.204      -0.106\n",
      "summer              0.0886      0.010      8.608      0.000       0.068       0.109\n",
      "winter              0.1307      0.010     12.600      0.000       0.110       0.151\n",
      "Sep                 0.0974      0.016      6.184      0.000       0.066       0.128\n",
      "Light_rain_snow    -0.2871      0.025    -11.611      0.000      -0.336      -0.239\n",
      "Mist               -0.0800      0.009     -9.143      0.000      -0.097      -0.063\n",
      "Saturday            0.0675      0.014      4.693      0.000       0.039       0.096\n",
      "==============================================================================\n",
      "Omnibus:                       68.639   Durbin-Watson:                   2.089\n",
      "Prob(Omnibus):                  0.000   Jarque-Bera (JB):              151.839\n",
      "Skew:                          -0.731   Prob(JB):                     1.07e-33\n",
      "Kurtosis:                       5.238   Cond. No.                         11.6\n",
      "==============================================================================\n",
      "\n",
      "Notes:\n",
      "[1] Standard Errors assume that the covariance matrix of the errors is correctly specified.\n"
     ]
    }
   ],
   "source": [
    "lr12=create_model(cols)"
   ]
  },
  {
   "cell_type": "markdown",
   "id": "a63086bc",
   "metadata": {},
   "source": [
    "<b>Observation</b>\n",
    "- With this all the VIF values are below 5<br>\n",
    "- All the p-values are equal to 0.<br>\n",
    "- The R-squared value is .835 which means these variables explains 83% of variance in 'cnt variable<br>\n",
    "- <b>This seems to be the best model</b>.<br>\n",
    "- Lets add some columns which were removed by RFE such as 'Sunday'\n"
   ]
  },
  {
   "cell_type": "markdown",
   "id": "ab7b1ae1",
   "metadata": {},
   "source": [
    "##### Model 13 : Adding the variable  'Sunday' in place of 'Saturday'"
   ]
  },
  {
   "cell_type": "code",
   "execution_count": 431,
   "id": "7b9999fd",
   "metadata": {},
   "outputs": [],
   "source": [
    "cols=['yr', 'temp','workingday', 'windspeed',\n",
    "       'summer','winter',\n",
    "       'Sep', 'Light_rain_snow', 'Mist', 'Sunday']"
   ]
  },
  {
   "cell_type": "code",
   "execution_count": 432,
   "id": "eb6ba67f",
   "metadata": {},
   "outputs": [
    {
     "name": "stdout",
     "output_type": "stream",
     "text": [
      "          Features   VIF\n",
      "1             temp  4.81\n",
      "2       workingday  3.85\n",
      "3        windspeed  3.32\n",
      "0               yr  2.02\n",
      "9           Sunday  1.59\n",
      "4           summer  1.57\n",
      "8             Mist  1.51\n",
      "5           winter  1.41\n",
      "6              Sep  1.20\n",
      "7  Light_rain_snow  1.08\n"
     ]
    }
   ],
   "source": [
    "## VIF Check\n",
    "getVif(cols)"
   ]
  },
  {
   "cell_type": "code",
   "execution_count": 433,
   "id": "e852d3f9",
   "metadata": {},
   "outputs": [
    {
     "name": "stdout",
     "output_type": "stream",
     "text": [
      "                            OLS Regression Results                            \n",
      "==============================================================================\n",
      "Dep. Variable:                    cnt   R-squared:                       0.831\n",
      "Model:                            OLS   Adj. R-squared:                  0.827\n",
      "Method:                 Least Squares   F-statistic:                     245.2\n",
      "Date:                Wed, 15 Dec 2021   Prob (F-statistic):          2.19e-185\n",
      "Time:                        21:18:02   Log-Likelihood:                 492.07\n",
      "No. Observations:                 510   AIC:                            -962.1\n",
      "Df Residuals:                     499   BIC:                            -915.6\n",
      "Df Model:                          10                                         \n",
      "Covariance Type:            nonrobust                                         \n",
      "===================================================================================\n",
      "                      coef    std err          t      P>|t|      [0.025      0.975]\n",
      "-----------------------------------------------------------------------------------\n",
      "const               0.1249      0.019      6.648      0.000       0.088       0.162\n",
      "yr                  0.2330      0.008     27.978      0.000       0.217       0.249\n",
      "temp                0.5517      0.020     27.582      0.000       0.512       0.591\n",
      "workingday          0.0047      0.011      0.430      0.667      -0.017       0.026\n",
      "windspeed          -0.1547      0.025     -6.091      0.000      -0.205      -0.105\n",
      "summer              0.0891      0.010      8.541      0.000       0.069       0.110\n",
      "winter              0.1298      0.011     12.361      0.000       0.109       0.150\n",
      "Sep                 0.0960      0.016      6.013      0.000       0.065       0.127\n",
      "Light_rain_snow    -0.2834      0.025    -11.322      0.000      -0.333      -0.234\n",
      "Mist               -0.0787      0.009     -8.878      0.000      -0.096      -0.061\n",
      "Sunday             -0.0427      0.015     -2.913      0.004      -0.071      -0.014\n",
      "==============================================================================\n",
      "Omnibus:                       69.345   Durbin-Watson:                   2.055\n",
      "Prob(Omnibus):                  0.000   Jarque-Bera (JB):              163.176\n",
      "Skew:                          -0.717   Prob(JB):                     3.69e-36\n",
      "Kurtosis:                       5.372   Cond. No.                         11.6\n",
      "==============================================================================\n",
      "\n",
      "Notes:\n",
      "[1] Standard Errors assume that the covariance matrix of the errors is correctly specified.\n"
     ]
    },
    {
     "data": {
      "text/plain": [
       "<statsmodels.regression.linear_model.RegressionResultsWrapper at 0x129584d60>"
      ]
     },
     "execution_count": 433,
     "metadata": {},
     "output_type": "execute_result"
    }
   ],
   "source": [
    "create_model(cols)"
   ]
  },
  {
   "cell_type": "markdown",
   "id": "cff5d903",
   "metadata": {},
   "source": [
    "#### Observation<br>\n",
    "- This model increased p-value of workingday<br>\n",
    "- So, it would not be a good factor to add. The reason could be that people choose bike sharing on working days which is not related to Sunday which is a holiday.<br>\n",
    "- Based on this observation <b>Model 12<b> will be our final model for which we will evaluate model"
   ]
  },
  {
   "cell_type": "markdown",
   "id": "3139eb50",
   "metadata": {},
   "source": [
    "## Step 7. Model Interpretation"
   ]
  },
  {
   "cell_type": "markdown",
   "id": "05c6be2d",
   "metadata": {},
   "source": [
    "##### 7.1. Model Coeffiecients"
   ]
  },
  {
   "cell_type": "code",
   "execution_count": 445,
   "id": "0c473eea",
   "metadata": {},
   "outputs": [
    {
     "data": {
      "text/plain": [
       "const              0.075009\n",
       "yr                 0.233139\n",
       "temp               0.549892\n",
       "workingday         0.056117\n",
       "windspeed         -0.155203\n",
       "summer             0.088621\n",
       "winter             0.130655\n",
       "Sep                0.097365\n",
       "Light_rain_snow   -0.287090\n",
       "Mist              -0.080022\n",
       "Saturday           0.067500\n",
       "dtype: float64"
      ]
     },
     "execution_count": 445,
     "metadata": {},
     "output_type": "execute_result"
    }
   ],
   "source": [
    "lr12.params"
   ]
  },
  {
   "cell_type": "markdown",
   "id": "a7a3fee3",
   "metadata": {},
   "source": [
    "##### 7.2. Model equation"
   ]
  },
  {
   "cell_type": "markdown",
   "id": "08aebd11",
   "metadata": {},
   "source": [
    "#### cnt=0.075009 + (0.233139 x yr) + (0.549892 x temp)+ (0.056117 x workingday) − (0.155203 x windspeed) + (0.088621 x summer) + (0.130655 x winter) + (0.097365 x Sep) + (0.067500 x Saturday) − (0.080022 x Misty) − (0.287090 x Light_rain_snow)"
   ]
  },
  {
   "cell_type": "markdown",
   "id": "9d02b4c1",
   "metadata": {},
   "source": [
    "##### 7.3. Model Interpretation"
   ]
  },
  {
   "cell_type": "markdown",
   "id": "b13bc18d",
   "metadata": {},
   "source": [
    "- <b>const</b> : In the absence of all other predictor variables, the bike rental(cnt) can increase by 0.075009 units<br>\n",
    "- <b>yr</b> : A unit increase in yr variable, will increase the bike rental numbers by 0.233139 units<br>\n",
    "- <b>temp</b> : A unit increase in temp variable, will increase the bike rental numbers by 0.549892 units<br>\n",
    "- <b>workingday</b> : A unit increase in workingday variable, will increase the bike rental numbers by 0.056117 units<br>\n",
    "- <b>windspeed</b> : A unit increase in windspeed variable will decrease the bike rental numbers by 0.155203 units<br>\n",
    "- <b>summer</b> : A unit increase in summer variable, will increase the bike rental numbers by 0.088621 units<br>\n",
    "- <b>winter</b> : A unit increase in winter variable, will increase the bike rental numbers by 0.130655 units<br>\n",
    "- <b>Sep</b> : A unit increase in Sep variable will increase the bike rental numbers by 0.097365 units\n",
    "- <b>Saturday</b> : A unit increase in Saturday variable, will increase the bike rental numbers by 0.067500 units<br>\n",
    "- <b>Misty</b> : A unit increase in Misty variable will decrease the bike rental numbers by 0.080022 units<br>\n",
    "- <b>Light_rain_snow</b> : A unit increase in Light_rain_snow variable will decrease the bike rental numbers by 0.287090 units<br>\n",
    "\n",
    "\n"
   ]
  },
  {
   "cell_type": "markdown",
   "id": "de180905",
   "metadata": {},
   "source": [
    "##### 7.4 F-Staitsics :"
   ]
  },
  {
   "cell_type": "markdown",
   "id": "7c92629b",
   "metadata": {},
   "source": [
    "- F-statistic:253.0\n",
    "- Prob (F-statistic):          3.13e-188\n",
    "- The F-Statistics value :253 and the p-value of '~0.0000' states that the overall model is significant"
   ]
  },
  {
   "cell_type": "markdown",
   "id": "875d049c",
   "metadata": {},
   "source": [
    "## Step 8. Residual Analysis Of Training Data"
   ]
  },
  {
   "cell_type": "markdown",
   "id": "d4958096",
   "metadata": {},
   "source": [
    "lets see if this model satisfies the assumptions of Linear Regression model"
   ]
  },
  {
   "cell_type": "markdown",
   "id": "21c50e95",
   "metadata": {},
   "source": [
    "##### 8.1 Error terms are normally distributed with mean zero (not X, Y)"
   ]
  },
  {
   "cell_type": "code",
   "execution_count": 446,
   "id": "7d458cc0",
   "metadata": {},
   "outputs": [],
   "source": [
    "y_train_pred = lr12.predict(X_train_lm12)"
   ]
  },
  {
   "cell_type": "code",
   "execution_count": 447,
   "id": "c534a567",
   "metadata": {},
   "outputs": [
    {
     "data": {
      "text/plain": [
       "Text(0.5, 0, 'Errors')"
      ]
     },
     "execution_count": 447,
     "metadata": {},
     "output_type": "execute_result"
    },
    {
     "data": {
      "image/png": "[encoded data removed]",
      "text/plain": [
       "<Figure size 432x288 with 1 Axes>"
      ]
     },
     "metadata": {
      "needs_background": "light"
     },
     "output_type": "display_data"
    }
   ],
   "source": [
    "res = y_train-y_train_pred\n",
    "# Plot the histogram of the error terms\n",
    "fig = plt.figure()\n",
    "sns.distplot((res), bins = 20)\n",
    "fig.suptitle('Error Terms', fontsize = 15)        \n",
    "plt.xlabel('Errors', fontsize = 15)  "
   ]
  },
  {
   "cell_type": "markdown",
   "id": "167e3d9d",
   "metadata": {},
   "source": [
    "<b>Observation</b>\n",
    "- Residuals are normally distributed"
   ]
  },
  {
   "cell_type": "markdown",
   "id": "080c6884",
   "metadata": {},
   "source": [
    "##### 8.2 Homoscedasticity"
   ]
  },
  {
   "cell_type": "code",
   "execution_count": 448,
   "id": "7232461a",
   "metadata": {},
   "outputs": [
    {
     "data": {
      "image/png": "[encoded data removed]",
      "text/plain": [
       "<Figure size 432x288 with 1 Axes>"
      ]
     },
     "metadata": {
      "needs_background": "light"
     },
     "output_type": "display_data"
    }
   ],
   "source": [
    "y_train_pred = lr12.predict(X_train_lm12)\n",
    "residual = y_train - y_train_pred\n",
    "sns.scatterplot(y_train,residual)\n",
    "plt.plot(y_train,(y_train - y_train), '-r')\n",
    "plt.xlabel('Count')\n",
    "plt.ylabel('Residual')\n",
    "plt.show()"
   ]
  },
  {
   "cell_type": "markdown",
   "id": "51bb8c05",
   "metadata": {},
   "source": [
    "<b>Observation</b>\n",
    "- No visible pattern in residuals"
   ]
  },
  {
   "cell_type": "markdown",
   "id": "a7651f29",
   "metadata": {},
   "source": [
    "##### 8.3 Independence of residuals"
   ]
  },
  {
   "cell_type": "code",
   "execution_count": 449,
   "id": "ffe0d328",
   "metadata": {},
   "outputs": [
    {
     "name": "stdout",
     "output_type": "stream",
     "text": [
      "The Durbin-Watson value for Final Model lr 12 is 2.0885\n"
     ]
    }
   ],
   "source": [
    "print('The Durbin-Watson value for Final Model lr 12 is',round(sm.stats.stattools.durbin_watson((y_train - y_train_pred)),4))\n"
   ]
  },
  {
   "cell_type": "markdown",
   "id": "a48b3db8",
   "metadata": {},
   "source": [
    "<b>Observation</b>\n",
    "- The residuals are independent"
   ]
  },
  {
   "cell_type": "markdown",
   "id": "028deb90",
   "metadata": {},
   "source": [
    "## Step 9: Making Predictions Using the Final Model\n",
    "\n",
    "Now that we have fitted the model and checked the normality of error terms, it's time to go ahead and make predictions using the final, i.e. eleventh model."
   ]
  },
  {
   "cell_type": "markdown",
   "id": "cc9efe9e",
   "metadata": {},
   "source": [
    "##### 9.1 Applying the scaling on the test sets"
   ]
  },
  {
   "cell_type": "code",
   "execution_count": 436,
   "id": "9f56756d",
   "metadata": {},
   "outputs": [],
   "source": [
    "## Rescalling bike_test dataframe using MinMaxCcaler\n",
    "scaler = MinMaxScaler()\n",
    "num_vars = ['temp','atemp','hum','windspeed','cnt']\n",
    "bike_test[num_vars] = scaler.fit_transform(bike_test[num_vars])"
   ]
  },
  {
   "cell_type": "code",
   "execution_count": 437,
   "id": "8fa3379a",
   "metadata": {},
   "outputs": [
    {
     "data": {
      "text/html": [
       "<div>\n",
       "<style scoped>\n",
       "    .dataframe tbody tr th:only-of-type {\n",
       "        vertical-align: middle;\n",
       "    }\n",
       "\n",
       "    .dataframe tbody tr th {\n",
       "        vertical-align: top;\n",
       "    }\n",
       "\n",
       "    .dataframe thead th {\n",
       "        text-align: right;\n",
       "    }\n",
       "</style>\n",
       "<table border=\"1\" class=\"dataframe\">\n",
       "  <thead>\n",
       "    <tr style=\"text-align: right;\">\n",
       "      <th></th>\n",
       "      <th>yr</th>\n",
       "      <th>holiday</th>\n",
       "      <th>workingday</th>\n",
       "      <th>temp</th>\n",
       "      <th>atemp</th>\n",
       "      <th>hum</th>\n",
       "      <th>windspeed</th>\n",
       "      <th>cnt</th>\n",
       "      <th>spring</th>\n",
       "      <th>summer</th>\n",
       "      <th>...</th>\n",
       "      <th>Oct</th>\n",
       "      <th>Sep</th>\n",
       "      <th>Light_rain_snow</th>\n",
       "      <th>Mist</th>\n",
       "      <th>Monday</th>\n",
       "      <th>Saturday</th>\n",
       "      <th>Sunday</th>\n",
       "      <th>Thursday</th>\n",
       "      <th>Tuesday</th>\n",
       "      <th>Wednesday</th>\n",
       "    </tr>\n",
       "  </thead>\n",
       "  <tbody>\n",
       "    <tr>\n",
       "      <th>184</th>\n",
       "      <td>0</td>\n",
       "      <td>1</td>\n",
       "      <td>0</td>\n",
       "      <td>0.837241</td>\n",
       "      <td>0.778767</td>\n",
       "      <td>0.534223</td>\n",
       "      <td>0.149393</td>\n",
       "      <td>0.704300</td>\n",
       "      <td>0</td>\n",
       "      <td>0</td>\n",
       "      <td>...</td>\n",
       "      <td>0</td>\n",
       "      <td>0</td>\n",
       "      <td>0</td>\n",
       "      <td>1</td>\n",
       "      <td>1</td>\n",
       "      <td>0</td>\n",
       "      <td>0</td>\n",
       "      <td>0</td>\n",
       "      <td>0</td>\n",
       "      <td>0</td>\n",
       "    </tr>\n",
       "    <tr>\n",
       "      <th>535</th>\n",
       "      <td>1</td>\n",
       "      <td>0</td>\n",
       "      <td>1</td>\n",
       "      <td>0.911423</td>\n",
       "      <td>0.855132</td>\n",
       "      <td>0.470417</td>\n",
       "      <td>0.231142</td>\n",
       "      <td>0.725421</td>\n",
       "      <td>0</td>\n",
       "      <td>1</td>\n",
       "      <td>...</td>\n",
       "      <td>0</td>\n",
       "      <td>0</td>\n",
       "      <td>0</td>\n",
       "      <td>0</td>\n",
       "      <td>0</td>\n",
       "      <td>0</td>\n",
       "      <td>0</td>\n",
       "      <td>0</td>\n",
       "      <td>0</td>\n",
       "      <td>1</td>\n",
       "    </tr>\n",
       "    <tr>\n",
       "      <th>299</th>\n",
       "      <td>0</td>\n",
       "      <td>0</td>\n",
       "      <td>1</td>\n",
       "      <td>0.496221</td>\n",
       "      <td>0.492359</td>\n",
       "      <td>0.777843</td>\n",
       "      <td>0.443398</td>\n",
       "      <td>0.278853</td>\n",
       "      <td>0</td>\n",
       "      <td>0</td>\n",
       "      <td>...</td>\n",
       "      <td>1</td>\n",
       "      <td>0</td>\n",
       "      <td>0</td>\n",
       "      <td>1</td>\n",
       "      <td>0</td>\n",
       "      <td>0</td>\n",
       "      <td>0</td>\n",
       "      <td>1</td>\n",
       "      <td>0</td>\n",
       "      <td>0</td>\n",
       "    </tr>\n",
       "    <tr>\n",
       "      <th>221</th>\n",
       "      <td>0</td>\n",
       "      <td>0</td>\n",
       "      <td>1</td>\n",
       "      <td>0.890387</td>\n",
       "      <td>0.805661</td>\n",
       "      <td>0.236659</td>\n",
       "      <td>0.449707</td>\n",
       "      <td>0.545512</td>\n",
       "      <td>0</td>\n",
       "      <td>0</td>\n",
       "      <td>...</td>\n",
       "      <td>0</td>\n",
       "      <td>0</td>\n",
       "      <td>0</td>\n",
       "      <td>0</td>\n",
       "      <td>0</td>\n",
       "      <td>0</td>\n",
       "      <td>0</td>\n",
       "      <td>0</td>\n",
       "      <td>0</td>\n",
       "      <td>1</td>\n",
       "    </tr>\n",
       "    <tr>\n",
       "      <th>152</th>\n",
       "      <td>0</td>\n",
       "      <td>0</td>\n",
       "      <td>1</td>\n",
       "      <td>0.821739</td>\n",
       "      <td>0.749249</td>\n",
       "      <td>0.070765</td>\n",
       "      <td>0.682387</td>\n",
       "      <td>0.569148</td>\n",
       "      <td>0</td>\n",
       "      <td>1</td>\n",
       "      <td>...</td>\n",
       "      <td>0</td>\n",
       "      <td>0</td>\n",
       "      <td>0</td>\n",
       "      <td>0</td>\n",
       "      <td>0</td>\n",
       "      <td>0</td>\n",
       "      <td>0</td>\n",
       "      <td>1</td>\n",
       "      <td>0</td>\n",
       "      <td>0</td>\n",
       "    </tr>\n",
       "  </tbody>\n",
       "</table>\n",
       "<p>5 rows × 30 columns</p>\n",
       "</div>"
      ],
      "text/plain": [
       "     yr  holiday  workingday      temp     atemp       hum  windspeed  \\\n",
       "184   0        1           0  0.837241  0.778767  0.534223   0.149393   \n",
       "535   1        0           1  0.911423  0.855132  0.470417   0.231142   \n",
       "299   0        0           1  0.496221  0.492359  0.777843   0.443398   \n",
       "221   0        0           1  0.890387  0.805661  0.236659   0.449707   \n",
       "152   0        0           1  0.821739  0.749249  0.070765   0.682387   \n",
       "\n",
       "          cnt  spring  summer  ...  Oct  Sep  Light_rain_snow  Mist  Monday  \\\n",
       "184  0.704300       0       0  ...    0    0                0     1       1   \n",
       "535  0.725421       0       1  ...    0    0                0     0       0   \n",
       "299  0.278853       0       0  ...    1    0                0     1       0   \n",
       "221  0.545512       0       0  ...    0    0                0     0       0   \n",
       "152  0.569148       0       1  ...    0    0                0     0       0   \n",
       "\n",
       "     Saturday  Sunday  Thursday  Tuesday  Wednesday  \n",
       "184         0       0         0        0          0  \n",
       "535         0       0         0        0          1  \n",
       "299         0       0         1        0          0  \n",
       "221         0       0         0        0          1  \n",
       "152         0       0         1        0          0  \n",
       "\n",
       "[5 rows x 30 columns]"
      ]
     },
     "execution_count": 437,
     "metadata": {},
     "output_type": "execute_result"
    }
   ],
   "source": [
    "bike_test.head()"
   ]
  },
  {
   "cell_type": "markdown",
   "id": "4c8d8d2e",
   "metadata": {},
   "source": [
    "##### 9.2 Dividing into X_test and y_test"
   ]
  },
  {
   "cell_type": "code",
   "execution_count": 438,
   "id": "c8e7b70e",
   "metadata": {},
   "outputs": [],
   "source": [
    "y_test = bike_test.pop('cnt')\n",
    "X_test = bike_test"
   ]
  },
  {
   "cell_type": "code",
   "execution_count": 450,
   "id": "d521aec5",
   "metadata": {},
   "outputs": [
    {
     "name": "stdout",
     "output_type": "stream",
     "text": [
      "<class 'pandas.core.frame.DataFrame'>\n",
      "Int64Index: 220 entries, 184 to 653\n",
      "Data columns (total 11 columns):\n",
      " #   Column           Non-Null Count  Dtype  \n",
      "---  ------           --------------  -----  \n",
      " 0   const            220 non-null    float64\n",
      " 1   yr               220 non-null    int64  \n",
      " 2   temp             220 non-null    float64\n",
      " 3   workingday       220 non-null    int64  \n",
      " 4   windspeed        220 non-null    float64\n",
      " 5   summer           220 non-null    uint8  \n",
      " 6   winter           220 non-null    uint8  \n",
      " 7   Sep              220 non-null    uint8  \n",
      " 8   Light_rain_snow  220 non-null    uint8  \n",
      " 9   Mist             220 non-null    uint8  \n",
      " 10  Saturday         220 non-null    uint8  \n",
      "dtypes: float64(3), int64(2), uint8(6)\n",
      "memory usage: 11.6 KB\n"
     ]
    }
   ],
   "source": [
    "# Selecting variables part of final model : lr11\n",
    "cols=['yr', 'temp','workingday', 'windspeed',\n",
    "       'summer','winter',\n",
    "       'Sep', 'Light_rain_snow', 'Mist', 'Saturday']\n",
    "\n",
    "X_test=X_test[cols]\n",
    "\n",
    "# Adding constant variable to test dataframe\n",
    "X_test_lm12 = sm.add_constant(X_test)\n",
    "\n",
    "X_test_lm12.info()"
   ]
  },
  {
   "cell_type": "markdown",
   "id": "57dce0a3",
   "metadata": {},
   "source": [
    "##### 9.3 Making predictions using the final model (lr12)"
   ]
  },
  {
   "cell_type": "code",
   "execution_count": 451,
   "id": "6ffe7754",
   "metadata": {},
   "outputs": [],
   "source": [
    "y_pred = lr12.predict(X_test_lm11)"
   ]
  },
  {
   "cell_type": "markdown",
   "id": "0dd2e0a0",
   "metadata": {},
   "source": [
    "##### 9.4 plotting y_test and y_pred"
   ]
  },
  {
   "cell_type": "code",
   "execution_count": 452,
   "id": "8ea4f016",
   "metadata": {},
   "outputs": [
    {
     "data": {
      "text/plain": [
       "Text(0, 0.5, 'y_pred')"
      ]
     },
     "execution_count": 452,
     "metadata": {},
     "output_type": "execute_result"
    },
    {
     "data": {
      "image/png": "[encoded data removed]",
      "text/plain": [
       "<Figure size 432x288 with 1 Axes>"
      ]
     },
     "metadata": {
      "needs_background": "light"
     },
     "output_type": "display_data"
    }
   ],
   "source": [
    "fig = plt.figure()\n",
    "plt.scatter(y_test, y_pred,alpha = 0.5)\n",
    "fig.suptitle('y_test vs y_pred')             \n",
    "plt.xlabel('y_test')                          \n",
    "plt.ylabel('y_pred') "
   ]
  },
  {
   "cell_type": "markdown",
   "id": "3f604c1e",
   "metadata": {},
   "source": [
    "##### 9.5 R2 Value Calculation for bike_test"
   ]
  },
  {
   "cell_type": "code",
   "execution_count": 453,
   "id": "5bec7d89",
   "metadata": {},
   "outputs": [
    {
     "data": {
      "text/plain": [
       "0.788"
      ]
     },
     "execution_count": 453,
     "metadata": {},
     "output_type": "execute_result"
    }
   ],
   "source": [
    "r2 = round(r2_score(y_test, y_pred),3)\n",
    "r2"
   ]
  },
  {
   "cell_type": "markdown",
   "id": "ff5be777",
   "metadata": {},
   "source": [
    "##### 9.6 Adjusted R2 Value Calculation for bike_test"
   ]
  },
  {
   "cell_type": "code",
   "execution_count": 454,
   "id": "84b37801",
   "metadata": {},
   "outputs": [
    {
     "data": {
      "text/plain": [
       "0.778"
      ]
     },
     "execution_count": 454,
     "metadata": {},
     "output_type": "execute_result"
    }
   ],
   "source": [
    "# n is number of rows in test dataset\n",
    "n = X_test.shape[0]\n",
    "\n",
    "# Number of predictors\n",
    "p = X_test.shape[1]\n",
    "\n",
    "# Finding Adjusted R-squared using the formula\n",
    "adjusted_r2 = round(1-(1-r2)*(n-1)/(n-p-1),3)\n",
    "adjusted_r2"
   ]
  },
  {
   "cell_type": "markdown",
   "id": "ae6f33aa",
   "metadata": {},
   "source": [
    "##### 9.7 Calculating RMSE"
   ]
  },
  {
   "cell_type": "code",
   "execution_count": 455,
   "id": "ff47774c",
   "metadata": {},
   "outputs": [
    {
     "data": {
      "text/plain": [
       "0.11"
      ]
     },
     "execution_count": 455,
     "metadata": {},
     "output_type": "execute_result"
    }
   ],
   "source": [
    "RMSE = round(sqrt(mean_squared_error(y_test, y_pred)),3)\n",
    "RMSE"
   ]
  },
  {
   "cell_type": "markdown",
   "id": "a0c85bda",
   "metadata": {},
   "source": [
    "#### Calculating Mean Absolute Error"
   ]
  },
  {
   "cell_type": "code",
   "execution_count": 456,
   "id": "1f3fdeae",
   "metadata": {},
   "outputs": [
    {
     "data": {
      "text/plain": [
       "0.086"
      ]
     },
     "execution_count": 456,
     "metadata": {},
     "output_type": "execute_result"
    }
   ],
   "source": [
    "MAE = round(mean_absolute_error(y_test, y_pred),3)\n",
    "MAE"
   ]
  },
  {
   "cell_type": "markdown",
   "id": "cc73e5b8",
   "metadata": {},
   "source": [
    "#### Observation: \n",
    "- Train Data\n",
    "    - Rsquared: 0.835\n",
    "    - Adj. Rsquared:0.832\n",
    "- Test Data\n",
    "    - Rsquared: 0.786\n",
    "    - Adj. Rsquared:0.778\n",
    "- The <b>Root Mean Squared Error</b> value for the test dataset based on final model is 0.093\n",
    "- The <b>Mean Absolute Error</b> is 0.0714<br>\n",
    "### This indicates that the model 12 is really good."
   ]
  },
  {
   "cell_type": "markdown",
   "id": "74322996",
   "metadata": {},
   "source": [
    "## Model Outcome Summary\n",
    "As per the final model, the top 5 predictor variables that influences bike booking are:\n",
    "\n",
    "- Temperature (Temp)\n",
    "    - It has the most significant impact on bike rentals\n",
    "- Windspeed\n",
    "    - This creates a negative impact on bike renting as people do not opt to take a bike when the windspeed is high.\n",
    "- Light Rain & Snow (weathersit =3)\n",
    "    - This creates a negative impact on bike renting as people do not opt to take a bike in such a weather.\n",
    "- Year (yr)\n",
    "    - Rental increase with every year\n",
    "- Sep \n",
    "    - It is month with high rentals, so company should promote more advertisments in this month\n",
    "    \n",
    "- As high temperature and good weather positively impacts bike rentals, it is recommended that bike availability and promotions to be increased during summer months to further increase bike rentals.</b>\n",
    "<b>\n",
    "- It is recommended to give utmost importance to these variables while planning to achieve maximum bike rental booking.\n"
   ]
  }
 ],
 "metadata": {
  "kernelspec": {
   "display_name": "Python 3",
   "language": "python",
   "name": "python3"
  },
  "language_info": {
   "codemirror_mode": {
    "name": "ipython",
    "version": 3
   },
   "file_extension": ".py",
   "mimetype": "text/x-python",
   "name": "python",
   "nbconvert_exporter": "python",
   "pygments_lexer": "ipython3",
   "version": "3.8.8"
  }
 },
 "nbformat": 4,
 "nbformat_minor": 5
}
